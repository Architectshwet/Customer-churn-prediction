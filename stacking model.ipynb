{
  "cells": [
    {
      "metadata": {
        "_cell_guid": "b1076dfc-b9ad-4769-8c92-a6c4dae69d19",
        "_uuid": "8f2839f25d086af736a60e9eeb907d3b93b6e0e5",
        "trusted": true
      },
      "cell_type": "code",
      "source": "# This Python 3 environment comes with many helpful analytics libraries installed\n# It is defined by the kaggle/python docker image: https://github.com/kaggle/docker-python\n# For example, here's several helpful packages to load in \n\nimport numpy as np # linear algebra\nimport pandas as pd # data processing, CSV file I/O (e.g. pd.read_csv)\n\n# Input data files are available in the \"../input/\" directory.\n# For example, running this (by clicking run or pressing Shift+Enter) will list the files in the input directory\n\nimport os\nprint(os.listdir(\"../input\"))\n\n# Any results you write to the current directory are saved as output.",
      "execution_count": 1,
      "outputs": [
        {
          "name": "stdout",
          "output_type": "stream",
          "text": "['10k_actual_train.csv', '10kactual_test.csv']\n"
        }
      ]
    },
    {
      "metadata": {
        "_cell_guid": "284aa834-fd6a-4543-bb67-af4c8e2bd5ce",
        "_uuid": "60a139abef8cff978515fe3d637f7bb3ac93d325",
        "trusted": true
      },
      "cell_type": "code",
      "source": "# Load in our libraries\nimport pandas as pd\nimport numpy as np\nimport re\nimport sklearn\nimport xgboost as xgb\nimport seaborn as sns\nimport matplotlib.pyplot as plt\n%matplotlib inline\n\nimport plotly.offline as py\npy.init_notebook_mode(connected=True)\nimport plotly.graph_objs as go\nimport plotly.tools as tls\n\nimport warnings\nwarnings.filterwarnings('ignore')\n\n# Going to use these 5 base models for the stacking\nfrom sklearn.ensemble import (RandomForestClassifier, AdaBoostClassifier, \n                              GradientBoostingClassifier, ExtraTreesClassifier)\nfrom sklearn.svm import SVC\nfrom sklearn.cross_validation import KFold",
      "execution_count": 2,
      "outputs": [
        {
          "data": {
            "text/html": "<script>requirejs.config({paths: { 'plotly': ['https://cdn.plot.ly/plotly-latest.min']},});if(!window.Plotly) {{require(['plotly'],function(plotly) {window.Plotly=plotly;});}}</script>",
            "text/vnd.plotly.v1+html": "<script>requirejs.config({paths: { 'plotly': ['https://cdn.plot.ly/plotly-latest.min']},});if(!window.Plotly) {{require(['plotly'],function(plotly) {window.Plotly=plotly;});}}</script>"
          },
          "metadata": {},
          "output_type": "display_data"
        }
      ]
    },
    {
      "metadata": {
        "collapsed": true,
        "trusted": true,
        "_uuid": "add0106a9f2fd9a587d9ec71887bb8b5aa1a5d45"
      },
      "cell_type": "code",
      "source": "from sklearn.metrics import accuracy_score",
      "execution_count": 38,
      "outputs": []
    },
    {
      "metadata": {
        "_cell_guid": "bea5bc69-ff99-480d-9ece-1468103e8a3a",
        "_uuid": "dd40a3d83e40920125f9a28df27f26159826a54f",
        "collapsed": true,
        "trusted": true
      },
      "cell_type": "code",
      "source": "from hyperopt import hp, tpe\nfrom hyperopt.fmin import fmin\nfrom sklearn.model_selection import cross_val_score, StratifiedKFold",
      "execution_count": 3,
      "outputs": []
    },
    {
      "metadata": {
        "trusted": true,
        "_uuid": "eaf7cce149af53b413ca3dc1aad77403ac506a30"
      },
      "cell_type": "code",
      "source": "print(__doc__)\n\nimport itertools\nimport numpy as np\nimport matplotlib.pyplot as plt\n\nfrom sklearn import svm, datasets\nfrom sklearn.model_selection import train_test_split\nfrom sklearn.metrics import confusion_matrix",
      "execution_count": 41,
      "outputs": [
        {
          "name": "stdout",
          "output_type": "stream",
          "text": "Automatically created module for IPython interactive environment\n"
        }
      ]
    },
    {
      "metadata": {
        "_cell_guid": "79c7e3d0-c299-4dcb-8224-4455121ee9b0",
        "_uuid": "d629ff2d2480ee46fbb7e2d37f6b5fab8052498a",
        "collapsed": true,
        "trusted": true
      },
      "cell_type": "code",
      "source": "train = pd.read_csv('../input/10k_actual_train.csv')\ntest = pd.read_csv('../input/10kactual_test.csv')",
      "execution_count": 4,
      "outputs": []
    },
    {
      "metadata": {
        "_cell_guid": "54bba331-d722-4afd-bbef-a46e77107275",
        "_uuid": "69f6892b7818006bab1a40a9bb97e30048a19f07",
        "trusted": true
      },
      "cell_type": "code",
      "source": "train.head()",
      "execution_count": 5,
      "outputs": [
        {
          "data": {
            "text/html": "<div>\n<style scoped>\n    .dataframe tbody tr th:only-of-type {\n        vertical-align: middle;\n    }\n\n    .dataframe tbody tr th {\n        vertical-align: top;\n    }\n\n    .dataframe thead th {\n        text-align: right;\n    }\n</style>\n<table border=\"1\" class=\"dataframe\">\n  <thead>\n    <tr style=\"text-align: right;\">\n      <th></th>\n      <th>msno</th>\n      <th>is_churn</th>\n      <th>payment_method_id</th>\n      <th>payment_plan_days</th>\n      <th>plan_list_price</th>\n      <th>actual_amount_paid</th>\n      <th>is_auto_renew</th>\n      <th>city</th>\n      <th>bd</th>\n      <th>gender</th>\n      <th>...</th>\n      <th>trans_month</th>\n      <th>trans_year</th>\n      <th>expire_month</th>\n      <th>expire_year</th>\n      <th>registration_month</th>\n      <th>registration_year</th>\n      <th>membership_duration</th>\n      <th>autorenew_._not_cancel</th>\n      <th>registration_duration</th>\n      <th>reg_mem_duration</th>\n    </tr>\n  </thead>\n  <tbody>\n    <tr>\n      <th>0</th>\n      <td>280470</td>\n      <td>not_churn</td>\n      <td>41</td>\n      <td>30</td>\n      <td>149</td>\n      <td>149</td>\n      <td>1</td>\n      <td>5</td>\n      <td>21</td>\n      <td>0</td>\n      <td>...</td>\n      <td>12</td>\n      <td>2016</td>\n      <td>1</td>\n      <td>2017</td>\n      <td>3</td>\n      <td>2015</td>\n      <td>31</td>\n      <td>1</td>\n      <td>672</td>\n      <td>641</td>\n    </tr>\n    <tr>\n      <th>1</th>\n      <td>346351</td>\n      <td>not_churn</td>\n      <td>40</td>\n      <td>31</td>\n      <td>149</td>\n      <td>149</td>\n      <td>1</td>\n      <td>5</td>\n      <td>45</td>\n      <td>0</td>\n      <td>...</td>\n      <td>3</td>\n      <td>2015</td>\n      <td>4</td>\n      <td>2015</td>\n      <td>1</td>\n      <td>2012</td>\n      <td>32</td>\n      <td>1</td>\n      <td>1159</td>\n      <td>1127</td>\n    </tr>\n    <tr>\n      <th>2</th>\n      <td>117510</td>\n      <td>not_churn</td>\n      <td>34</td>\n      <td>0</td>\n      <td>0</td>\n      <td>149</td>\n      <td>1</td>\n      <td>5</td>\n      <td>30</td>\n      <td>1</td>\n      <td>...</td>\n      <td>6</td>\n      <td>2015</td>\n      <td>7</td>\n      <td>2015</td>\n      <td>7</td>\n      <td>2006</td>\n      <td>31</td>\n      <td>1</td>\n      <td>3316</td>\n      <td>3285</td>\n    </tr>\n    <tr>\n      <th>3</th>\n      <td>183044</td>\n      <td>not_churn</td>\n      <td>40</td>\n      <td>30</td>\n      <td>149</td>\n      <td>149</td>\n      <td>1</td>\n      <td>13</td>\n      <td>42</td>\n      <td>0</td>\n      <td>...</td>\n      <td>10</td>\n      <td>2015</td>\n      <td>11</td>\n      <td>2015</td>\n      <td>5</td>\n      <td>2007</td>\n      <td>30</td>\n      <td>1</td>\n      <td>3098</td>\n      <td>3068</td>\n    </tr>\n    <tr>\n      <th>4</th>\n      <td>109458</td>\n      <td>not_churn</td>\n      <td>40</td>\n      <td>30</td>\n      <td>149</td>\n      <td>149</td>\n      <td>1</td>\n      <td>15</td>\n      <td>24</td>\n      <td>1</td>\n      <td>...</td>\n      <td>9</td>\n      <td>2016</td>\n      <td>10</td>\n      <td>2016</td>\n      <td>1</td>\n      <td>2009</td>\n      <td>29</td>\n      <td>1</td>\n      <td>2821</td>\n      <td>2792</td>\n    </tr>\n  </tbody>\n</table>\n<p>5 rows × 21 columns</p>\n</div>",
            "text/plain": "     msno   is_churn  payment_method_id  payment_plan_days  plan_list_price  \\\n0  280470  not_churn                 41                 30              149   \n1  346351  not_churn                 40                 31              149   \n2  117510  not_churn                 34                  0                0   \n3  183044  not_churn                 40                 30              149   \n4  109458  not_churn                 40                 30              149   \n\n   actual_amount_paid  is_auto_renew  city  bd  gender        ...         \\\n0                 149              1     5  21       0        ...          \n1                 149              1     5  45       0        ...          \n2                 149              1     5  30       1        ...          \n3                 149              1    13  42       0        ...          \n4                 149              1    15  24       1        ...          \n\n   trans_month  trans_year  expire_month  expire_year  registration_month  \\\n0           12        2016             1         2017                   3   \n1            3        2015             4         2015                   1   \n2            6        2015             7         2015                   7   \n3           10        2015            11         2015                   5   \n4            9        2016            10         2016                   1   \n\n   registration_year  membership_duration  autorenew_._not_cancel  \\\n0               2015                   31                       1   \n1               2012                   32                       1   \n2               2006                   31                       1   \n3               2007                   30                       1   \n4               2009                   29                       1   \n\n   registration_duration  reg_mem_duration  \n0                    672               641  \n1                   1159              1127  \n2                   3316              3285  \n3                   3098              3068  \n4                   2821              2792  \n\n[5 rows x 21 columns]"
          },
          "execution_count": 5,
          "metadata": {},
          "output_type": "execute_result"
        }
      ]
    },
    {
      "metadata": {
        "_cell_guid": "272fe234-62a9-4e8d-92a3-d6ca0378e9c8",
        "_uuid": "62d2317730ce3a46aaa2567b4ada41e6fecec517",
        "trusted": true
      },
      "cell_type": "code",
      "source": "test.head()",
      "execution_count": 6,
      "outputs": [
        {
          "data": {
            "text/html": "<div>\n<style scoped>\n    .dataframe tbody tr th:only-of-type {\n        vertical-align: middle;\n    }\n\n    .dataframe tbody tr th {\n        vertical-align: top;\n    }\n\n    .dataframe thead th {\n        text-align: right;\n    }\n</style>\n<table border=\"1\" class=\"dataframe\">\n  <thead>\n    <tr style=\"text-align: right;\">\n      <th></th>\n      <th>msno</th>\n      <th>is_churn</th>\n      <th>payment_method_id</th>\n      <th>payment_plan_days</th>\n      <th>plan_list_price</th>\n      <th>actual_amount_paid</th>\n      <th>is_auto_renew</th>\n      <th>city</th>\n      <th>bd</th>\n      <th>gender</th>\n      <th>...</th>\n      <th>trans_month</th>\n      <th>trans_year</th>\n      <th>expire_month</th>\n      <th>expire_year</th>\n      <th>registration_month</th>\n      <th>registration_year</th>\n      <th>membership_duration</th>\n      <th>autorenew_._not_cancel</th>\n      <th>registration_duration</th>\n      <th>reg_mem_duration</th>\n    </tr>\n  </thead>\n  <tbody>\n    <tr>\n      <th>0</th>\n      <td>245780</td>\n      <td>not_churn</td>\n      <td>38</td>\n      <td>30</td>\n      <td>149</td>\n      <td>149</td>\n      <td>0</td>\n      <td>13</td>\n      <td>21</td>\n      <td>1</td>\n      <td>...</td>\n      <td>3</td>\n      <td>2015</td>\n      <td>4</td>\n      <td>2015</td>\n      <td>1</td>\n      <td>2014</td>\n      <td>30</td>\n      <td>0</td>\n      <td>462</td>\n      <td>432</td>\n    </tr>\n    <tr>\n      <th>1</th>\n      <td>69532</td>\n      <td>not_churn</td>\n      <td>38</td>\n      <td>30</td>\n      <td>149</td>\n      <td>149</td>\n      <td>0</td>\n      <td>13</td>\n      <td>18</td>\n      <td>0</td>\n      <td>...</td>\n      <td>10</td>\n      <td>2015</td>\n      <td>11</td>\n      <td>2015</td>\n      <td>10</td>\n      <td>2015</td>\n      <td>30</td>\n      <td>0</td>\n      <td>36</td>\n      <td>6</td>\n    </tr>\n    <tr>\n      <th>2</th>\n      <td>59826</td>\n      <td>not_churn</td>\n      <td>39</td>\n      <td>30</td>\n      <td>149</td>\n      <td>149</td>\n      <td>1</td>\n      <td>6</td>\n      <td>41</td>\n      <td>1</td>\n      <td>...</td>\n      <td>1</td>\n      <td>2017</td>\n      <td>3</td>\n      <td>2017</td>\n      <td>6</td>\n      <td>2012</td>\n      <td>40</td>\n      <td>1</td>\n      <td>1738</td>\n      <td>1698</td>\n    </tr>\n    <tr>\n      <th>3</th>\n      <td>46736</td>\n      <td>not_churn</td>\n      <td>40</td>\n      <td>30</td>\n      <td>149</td>\n      <td>149</td>\n      <td>1</td>\n      <td>4</td>\n      <td>31</td>\n      <td>0</td>\n      <td>...</td>\n      <td>5</td>\n      <td>2016</td>\n      <td>6</td>\n      <td>2016</td>\n      <td>9</td>\n      <td>2013</td>\n      <td>34</td>\n      <td>1</td>\n      <td>1010</td>\n      <td>976</td>\n    </tr>\n    <tr>\n      <th>4</th>\n      <td>306040</td>\n      <td>not_churn</td>\n      <td>36</td>\n      <td>30</td>\n      <td>150</td>\n      <td>150</td>\n      <td>0</td>\n      <td>1</td>\n      <td>0</td>\n      <td>0</td>\n      <td>...</td>\n      <td>9</td>\n      <td>2015</td>\n      <td>10</td>\n      <td>2015</td>\n      <td>8</td>\n      <td>2014</td>\n      <td>33</td>\n      <td>0</td>\n      <td>413</td>\n      <td>380</td>\n    </tr>\n  </tbody>\n</table>\n<p>5 rows × 21 columns</p>\n</div>",
            "text/plain": "     msno   is_churn  payment_method_id  payment_plan_days  plan_list_price  \\\n0  245780  not_churn                 38                 30              149   \n1   69532  not_churn                 38                 30              149   \n2   59826  not_churn                 39                 30              149   \n3   46736  not_churn                 40                 30              149   \n4  306040  not_churn                 36                 30              150   \n\n   actual_amount_paid  is_auto_renew  city  bd  gender        ...         \\\n0                 149              0    13  21       1        ...          \n1                 149              0    13  18       0        ...          \n2                 149              1     6  41       1        ...          \n3                 149              1     4  31       0        ...          \n4                 150              0     1   0       0        ...          \n\n   trans_month  trans_year  expire_month  expire_year  registration_month  \\\n0            3        2015             4         2015                   1   \n1           10        2015            11         2015                  10   \n2            1        2017             3         2017                   6   \n3            5        2016             6         2016                   9   \n4            9        2015            10         2015                   8   \n\n   registration_year  membership_duration  autorenew_._not_cancel  \\\n0               2014                   30                       0   \n1               2015                   30                       0   \n2               2012                   40                       1   \n3               2013                   34                       1   \n4               2014                   33                       0   \n\n   registration_duration  reg_mem_duration  \n0                    462               432  \n1                     36                 6  \n2                   1738              1698  \n3                   1010               976  \n4                    413               380  \n\n[5 rows x 21 columns]"
          },
          "execution_count": 6,
          "metadata": {},
          "output_type": "execute_result"
        }
      ]
    },
    {
      "metadata": {
        "_cell_guid": "c2712200-6de1-4fad-bfb6-0ea3689afc0f",
        "_uuid": "2eff54f1b35504d02b2291f4654851e2a2c9a979",
        "collapsed": true,
        "trusted": true
      },
      "cell_type": "code",
      "source": "train.loc[ train.is_churn == 'not_churn', 'is_churn'] = 0\ntrain.loc[ train.is_churn == 'churn', 'is_churn'] = 1",
      "execution_count": 7,
      "outputs": []
    },
    {
      "metadata": {
        "_cell_guid": "be64750f-818c-48aa-90d7-790d7a1474f7",
        "_uuid": "81084d75fe8005214f8cdba57d1a2eaaaeb0bdf4",
        "collapsed": true,
        "trusted": true
      },
      "cell_type": "code",
      "source": "train['is_churn'] = train['is_churn'].astype(int)",
      "execution_count": 8,
      "outputs": []
    },
    {
      "metadata": {
        "_cell_guid": "9d4abfba-acdb-46db-bdda-4c8777786b39",
        "_uuid": "5e9bcc079b9b8d5f676f3408f7dcc4c12327324d",
        "collapsed": true,
        "trusted": true
      },
      "cell_type": "code",
      "source": "test.loc[ test.is_churn == 'not_churn', 'is_churn'] = 0\ntest.loc[ test.is_churn == 'churn', 'is_churn'] = 1",
      "execution_count": 9,
      "outputs": []
    },
    {
      "metadata": {
        "_cell_guid": "5175d393-e2b4-4a0b-a730-7cf3ecc5e3eb",
        "_uuid": "d09b2cb678c96e4c59661d90a9b61bbfe9f74833",
        "collapsed": true,
        "trusted": true
      },
      "cell_type": "code",
      "source": "test['is_churn'] = test['is_churn'].astype(int)",
      "execution_count": 10,
      "outputs": []
    },
    {
      "metadata": {
        "_cell_guid": "d99110e2-b742-458b-b0ab-9a554cf8dcc2",
        "_uuid": "3b445c7f4b67abab8437c4cbd925777f92a53e99",
        "collapsed": true,
        "trusted": true
      },
      "cell_type": "code",
      "source": "# Some useful parameters which will come in handy later on\nntrain = train.shape[0]\nntest = test.shape[0]\nSEED = 0 # for reproducibility\nNFOLDS = 5 # set folds for out-of-fold prediction\nkf = KFold(ntrain, n_folds= NFOLDS, random_state=SEED)\n\n# Class to extend the Sklearn classifier\nclass SklearnHelper(object):\n    def __init__(self, clf, seed=0, params=None):\n        params['random_state'] = seed\n        self.clf = clf(**params)\n\n    def train(self, x_train, y_train):\n        self.clf.fit(x_train, y_train)\n\n    def predict(self, x):\n        return self.clf.predict(x)\n    \n    def fit(self,x,y):\n        return self.clf.fit(x,y)\n    \n    def feature_importances(self,x,y):\n        print(self.clf.fit(x,y).feature_importances_)\n        \n    def predict_proba(self, x_test):\n        return self.clf.predict_proba(x_test)[:,1]\n    \n# Class to extend XGboost classifer",
      "execution_count": 11,
      "outputs": []
    },
    {
      "metadata": {
        "_cell_guid": "6b2b1915-c95c-4148-96a9-081433a222ef",
        "_uuid": "b7c5b7ef4ac3d1fd2d54e2ff0d8b5f30231ea58d",
        "collapsed": true,
        "trusted": true
      },
      "cell_type": "code",
      "source": "def get_oof(clf, x_train, y_train, x_test):\n    oof_train = np.zeros((ntrain,))\n    oof_test = np.zeros((ntest,))\n    oof_test_skf = np.empty((NFOLDS, ntest))\n\n    for i, (train_index, test_index) in enumerate(kf):\n        x_tr = x_train[train_index]\n        y_tr = y_train[train_index]\n        x_te = x_train[test_index]\n\n        clf.train(x_tr, y_tr)\n\n        oof_train[test_index] = clf.predict(x_te)\n        oof_test_skf[i, :] = clf.predict(x_test)\n\n    oof_test[:] = oof_test_skf.mean(axis=0)\n    return oof_train.reshape(-1, 1), oof_test.reshape(-1, 1)",
      "execution_count": 12,
      "outputs": []
    },
    {
      "metadata": {
        "_cell_guid": "8541b806-3206-4333-b2f7-bf9d8dc703bf",
        "_uuid": "4980a977985268b8d2b7acc21c631db335e8c0df",
        "collapsed": true,
        "trusted": true
      },
      "cell_type": "code",
      "source": "# Put in our parameters for said classifiers\n# Random Forest parameters\nrf_params = {\n    'n_jobs': -1,\n    'n_estimators': 500,\n     'warm_start': True, \n     #'max_features': 0.2,\n    'max_depth': 6,\n    'min_samples_leaf': 2,\n    'max_features' : 'sqrt',\n    'verbose': 0\n}\n\n# Extra Trees Parameters\net_params = {\n    'n_jobs': -1,\n    'n_estimators':500,\n    #'max_features': 0.5,\n    'max_depth': 2,\n    'min_samples_leaf': 6,\n    'verbose': 0\n}\n\n# AdaBoost parameters\nada_params = {\n    'n_estimators': 500,\n    'learning_rate' : 0.75\n}\n\n# Gradient Boosting parameters\ngb_params = {\n    'n_estimators': 500,\n     #'max_features': 0.2,\n    'max_depth': 5,\n    'min_samples_leaf': 2,\n    'verbose': 0\n}\n\n# Support Vector Classifier parameters \nsvc_params = {\n    'kernel' : 'linear',\n    'C' : 0.025\n    }",
      "execution_count": 13,
      "outputs": []
    },
    {
      "metadata": {
        "_cell_guid": "b2a38a35-7a08-4d96-99b6-a278832e482d",
        "_uuid": "ab8b7660be84fb87ad5c86e01a1dcaf7ab44e040",
        "collapsed": true,
        "trusted": true
      },
      "cell_type": "code",
      "source": "# Create 5 objects that represent our 4 models\nrf = SklearnHelper(clf=RandomForestClassifier, seed=SEED, params=rf_params)\net = SklearnHelper(clf=ExtraTreesClassifier, seed=SEED, params=et_params)\nada = SklearnHelper(clf=AdaBoostClassifier, seed=SEED, params=ada_params)\ngb = SklearnHelper(clf=GradientBoostingClassifier, seed=SEED, params=gb_params)\nsvc = SklearnHelper(clf=SVC, seed=SEED, params=svc_params)",
      "execution_count": 14,
      "outputs": []
    },
    {
      "metadata": {
        "collapsed": true,
        "trusted": true,
        "_uuid": "c5758329504cac7580d00d63bff870e0a6a5a45e"
      },
      "cell_type": "code",
      "source": "# Create Numpy arrays of train, test and target ( Survived) dataframes to feed into our models\ny_train = train['is_churn'].ravel()\nx_train = train.drop('is_churn', axis=1)\nx_train = x_train.values # Creates an array of the train data\nx_test = test.drop('is_churn', axis=1)\nx_test = x_test.values # Creats an array of the te",
      "execution_count": 15,
      "outputs": []
    },
    {
      "metadata": {
        "collapsed": true,
        "trusted": true,
        "_uuid": "f181585da795f48fd5883b058a32f45b9f6d102b"
      },
      "cell_type": "code",
      "source": "y_test = test['is_churn'].values",
      "execution_count": 18,
      "outputs": []
    },
    {
      "metadata": {
        "_cell_guid": "d4fa5cbc-6279-4d3b-8cf4-c902de4a1fe2",
        "_uuid": "f633abd2ff31b83e087247e2e481adef1a14f4ff",
        "collapsed": true,
        "trusted": true
      },
      "cell_type": "code",
      "source": "rf.fit(x_train, y_train)\npred_rf = rf.predict(x_test)",
      "execution_count": 16,
      "outputs": []
    },
    {
      "metadata": {
        "_cell_guid": "60bca5fb-2338-4bdf-a325-aa1e5a7a6ec8",
        "_uuid": "cb273db20ca063a6bd57bbca0d5607af62c74992",
        "collapsed": true,
        "trusted": true
      },
      "cell_type": "code",
      "source": "pred_rf",
      "execution_count": null,
      "outputs": []
    },
    {
      "metadata": {
        "_cell_guid": "1f430afb-c8f4-4c39-9152-2b0c65d25f4c",
        "_uuid": "fdd7b8f349de822be1e738707a37634f984d80c3",
        "trusted": true,
        "collapsed": true
      },
      "cell_type": "code",
      "source": "from sklearn.metrics import roc_auc_score\nrf_roc = roc_auc_score(y_test,pred_rf )",
      "execution_count": 19,
      "outputs": []
    },
    {
      "metadata": {
        "_cell_guid": "647d6810-aa2a-4e36-92e2-41700bb885a6",
        "_uuid": "172c00cdd0dc9e72e7adf7363f4c1d405bf36211",
        "collapsed": true,
        "trusted": true
      },
      "cell_type": "code",
      "source": "from sklearn.metrics import roc_curve\nrf_fpr, rf_tpr, thresholds = roc_curve(y_test, rf.predict_proba(x_test))",
      "execution_count": 20,
      "outputs": []
    },
    {
      "metadata": {
        "_cell_guid": "b5916484-30a9-46be-8379-5cdd9f6db298",
        "_uuid": "20c61667a2ee15e1c36624bcd42d17138d5b4d75",
        "trusted": true
      },
      "cell_type": "code",
      "source": "plt.figure()\nplt.plot(rf_fpr, rf_tpr, label='random_forest (area = %0.2f)' % rf_roc)\n\n# Plot Base Rate ROC\nplt.plot([0,1], [0,1],label='Base Rate' 'k--')\nplt.xlim([0.0, 1.0])\nplt.ylim([0.0, 1.05])\nplt.xlabel('False Positive Rate')\nplt.ylabel('True Positive Rate')\nplt.title('ROC Graph')\nplt.legend(loc=\"lower right\")\nplt.show()",
      "execution_count": 21,
      "outputs": [
        {
          "data": {
            "image/png": "[encoded data removed]",
            "text/plain": "<matplotlib.figure.Figure at 0x7f4e4c4560f0>"
          },
          "metadata": {},
          "output_type": "display_data"
        }
      ]
    },
    {
      "metadata": {
        "_cell_guid": "852b0936-b7dc-4d24-b3ac-d55a65cd2bd3",
        "_uuid": "7995b841b33937d7058c722ffc1f2bf37233333d",
        "collapsed": true,
        "trusted": true
      },
      "cell_type": "code",
      "source": "et.fit(x_train, y_train)\npred_et = et.predict(x_test)",
      "execution_count": 22,
      "outputs": []
    },
    {
      "metadata": {
        "_cell_guid": "d150ea4e-964f-45a5-99e3-9defc827845f",
        "_uuid": "68d147a96ae537c094772c42cce5f7ef87cb3149",
        "collapsed": true,
        "trusted": true
      },
      "cell_type": "code",
      "source": "et_roc = roc_auc_score(y_test,pred_et)",
      "execution_count": 23,
      "outputs": []
    },
    {
      "metadata": {
        "_cell_guid": "b58ca151-bff3-42fc-9ca9-a7af86833ec9",
        "_uuid": "5d1d4d137a7e93120ef88f4afd5ec65d6bfe97a9",
        "collapsed": true,
        "trusted": true
      },
      "cell_type": "code",
      "source": "et_fpr, et_tpr, thresholds = roc_curve(y_test, et.predict_proba(x_test))",
      "execution_count": 24,
      "outputs": []
    },
    {
      "metadata": {
        "_cell_guid": "057878b7-f8eb-421c-b4f8-6b23838482d4",
        "_uuid": "df297d7149a96792c9de949d9de26a6e4b27c5b6",
        "trusted": true
      },
      "cell_type": "code",
      "source": "plt.figure()\nplt.plot(et_fpr, et_tpr, label='extra tree classifier (area = %0.2f)' % et_roc)\n\n# Plot Base Rate ROC\nplt.plot([0,1], [0,1],label='Base Rate' 'k--')\nplt.xlim([0.0, 1.0])\nplt.ylim([0.0, 1.05])\nplt.xlabel('False Positive Rate')\nplt.ylabel('True Positive Rate')\nplt.title('ROC Graph')\nplt.legend(loc=\"lower right\")\nplt.show()",
      "execution_count": 25,
      "outputs": [
        {
          "data": {
            "image/png": "[encoded data removed]",
            "text/plain": "<matplotlib.figure.Figure at 0x7f4ed2efd0f0>"
          },
          "metadata": {},
          "output_type": "display_data"
        }
      ]
    },
    {
      "metadata": {
        "_cell_guid": "4f33af41-fa14-4d9c-a7e0-2206ab32cb98",
        "_uuid": "3c2a9f5c2fdcc7e37a1da22f90bc67ef7c6455ed",
        "collapsed": true,
        "trusted": true
      },
      "cell_type": "code",
      "source": "ada.fit(x_train, y_train)\npred_ada = ada.predict(x_test)",
      "execution_count": 26,
      "outputs": []
    },
    {
      "metadata": {
        "_cell_guid": "f5653b74-5565-4fcb-b21b-236bb01bffee",
        "_uuid": "b4bc5978a23d29dfb5f3d3551b776d142ec643ee",
        "collapsed": true,
        "trusted": true
      },
      "cell_type": "code",
      "source": "ada_roc = roc_auc_score(y_test,pred_ada)",
      "execution_count": 27,
      "outputs": []
    },
    {
      "metadata": {
        "_cell_guid": "60a89117-f4ee-4fc9-98d7-800c03b7bcf4",
        "_uuid": "5a8ae1f5fe493f8cd22948a41787f0d72dfbcb2c",
        "collapsed": true,
        "trusted": true
      },
      "cell_type": "code",
      "source": "ada_fpr, ada_tpr, thresholds = roc_curve(y_test, ada.predict_proba(x_test))",
      "execution_count": 28,
      "outputs": []
    },
    {
      "metadata": {
        "_cell_guid": "0a8d646f-e22a-4a63-8474-a095ed2121bb",
        "_uuid": "043f9beaa155fda16644adc1997f8dda806ad5e7",
        "trusted": true
      },
      "cell_type": "code",
      "source": "plt.figure()\nplt.plot(ada_fpr, ada_tpr, label='Adaboost classifier (area = %0.2f)' % ada_roc)\n\n# Plot Base Rate ROC\nplt.plot([0,1], [0,1],label='Base Rate' 'k--')\nplt.xlim([0.0, 1.0])\nplt.ylim([0.0, 1.05])\nplt.xlabel('False Positive Rate')\nplt.ylabel('True Positive Rate')\nplt.title('ROC Graph')\nplt.legend(loc=\"lower right\")\nplt.show()",
      "execution_count": 29,
      "outputs": [
        {
          "data": {
            "image/png": "[encoded data removed]",
            "text/plain": "<matplotlib.figure.Figure at 0x7f4ed2d36550>"
          },
          "metadata": {},
          "output_type": "display_data"
        }
      ]
    },
    {
      "metadata": {
        "_cell_guid": "ac1cdd6c-b12e-439b-b933-e9c517917b86",
        "_uuid": "e9c0335ec35ee81282e3b13e6a476b779e4c1224",
        "collapsed": true,
        "trusted": true
      },
      "cell_type": "code",
      "source": "gb.fit(x_train, y_train)\npred_gb = gb.predict(x_test)",
      "execution_count": 30,
      "outputs": []
    },
    {
      "metadata": {
        "_cell_guid": "801bb012-9062-483c-8575-44d79d6461ab",
        "_uuid": "9c77e9c7e858b23b49a22d6f384549395c729bc6",
        "collapsed": true,
        "trusted": true
      },
      "cell_type": "code",
      "source": "gb_roc = roc_auc_score(y_test,pred_gb)",
      "execution_count": 31,
      "outputs": []
    },
    {
      "metadata": {
        "_cell_guid": "f0eb31c9-c925-4f92-ae4c-473498b23802",
        "_uuid": "47e5916b0b3958eda1e05280ae9c05c72d8e29a9",
        "collapsed": true,
        "trusted": true
      },
      "cell_type": "code",
      "source": "gb_fpr, gb_tpr, thresholds = roc_curve(y_test, gb.predict_proba(x_test))",
      "execution_count": 32,
      "outputs": []
    },
    {
      "metadata": {
        "_cell_guid": "0cc2c69e-73d6-4d29-8905-20f26dc97e54",
        "_uuid": "9e05fb48fd2fba7f29bf510c409abe041ebb1edd",
        "trusted": true
      },
      "cell_type": "code",
      "source": "plt.figure()\nplt.plot(gb_fpr, gb_tpr, label='GradientBoost classifier (area = %0.2f)' % gb_roc)\n\n# Plot Base Rate ROC\nplt.plot([0,1], [0,1],label='Base Rate' 'k--')\nplt.xlim([0.0, 1.0])\nplt.ylim([0.0, 1.05])\nplt.xlabel('False Positive Rate')\nplt.ylabel('True Positive Rate')\nplt.title('ROC Graph')\nplt.legend(loc=\"lower right\")\nplt.show()",
      "execution_count": 33,
      "outputs": [
        {
          "data": {
            "image/png": "[encoded data removed]",
            "text/plain": "<matplotlib.figure.Figure at 0x7f4ed2ccfda0>"
          },
          "metadata": {},
          "output_type": "display_data"
        }
      ]
    },
    {
      "metadata": {
        "_cell_guid": "59d4bb53-fb5b-4266-b092-b043f7cf5975",
        "_uuid": "071f8bd97cf9725d4b6ec19f450f1b1b9c13f16f",
        "trusted": true
      },
      "cell_type": "code",
      "source": "plt.figure()\nplt.plot(gb_fpr, gb_tpr, label='GradientBoost classifier (area = %0.2f)' % gb_roc)\nplt.plot(ada_fpr, ada_tpr, label='Adaboost classifier (area = %0.2f)' % ada_roc)\nplt.plot(et_fpr, et_tpr, label='extra tree classifier (area = %0.2f)' % et_roc)\nplt.plot(rf_fpr, rf_tpr, label='random_forest (area = %0.2f)' % rf_roc)\n# Plot Base Rate ROC\nplt.plot([0,1], [0,1],label='Base Rate' 'k--')\nplt.xlim([0.0, 1.0])\nplt.ylim([0.0, 1.05])\nplt.xlabel('False Positive Rate')\nplt.ylabel('True Positive Rate')\nplt.title('ROC Graph')\nplt.legend(loc=\"lower right\")\nplt.show()",
      "execution_count": 34,
      "outputs": [
        {
          "data": {
            "image/png": "[encoded data removed]",
            "text/plain": "<matplotlib.figure.Figure at 0x7f4ed2ccfb70>"
          },
          "metadata": {},
          "output_type": "display_data"
        }
      ]
    },
    {
      "metadata": {
        "_cell_guid": "a2e1992c-0345-4bca-ba86-4f531fed2fb3",
        "_uuid": "9a148950524284348ca1c8beb9092595d13aacd8",
        "collapsed": true,
        "trusted": true
      },
      "cell_type": "code",
      "source": "# Create Numpy arrays of train, test and target ( Survived) dataframes to feed into our models\ny_train = train['is_churn'].ravel()\nx_train = train.drop('is_churn', axis=1)\nx_train = x_train.values # Creates an array of the train data\nx_test = test.drop('is_churn', axis=1)\nx_test = x_test.values # Creats an array of the te",
      "execution_count": null,
      "outputs": []
    },
    {
      "metadata": {
        "_cell_guid": "3dd50e65-5c3f-41dc-a76b-b6f091dd1faa",
        "_uuid": "e8545630126fc82199b6a62e21e2af6938749001",
        "collapsed": true,
        "trusted": true
      },
      "cell_type": "code",
      "source": "y_test = test['is_churn'].values",
      "execution_count": null,
      "outputs": []
    },
    {
      "metadata": {
        "_cell_guid": "806b1fb9-1e4f-4d8b-95ca-8fc10bf308e6",
        "_uuid": "5f5ea66cf3f6fe698dc227ee6fce64daa7d3ee39",
        "collapsed": true,
        "trusted": true
      },
      "cell_type": "code",
      "source": "ex = ExtraTreesClassifier(\n    #learning_rate = 0.02,\n     n_jobs = -1,\n     n_estimators = 500,\n    #'max_features': 0.5,\n     max_depth = 8,\n     min_samples_leaf = 2,\n     verbose = 0).fit(x_train, y_train)\npredictions = ex.predict(x_test)",
      "execution_count": 35,
      "outputs": []
    },
    {
      "metadata": {
        "_cell_guid": "9150216f-4eb8-4594-9d13-2b7ae12edb31",
        "_uuid": "16d2f69a9bb905c32b7dd46edd5cb2a5ae53b825",
        "trusted": true
      },
      "cell_type": "code",
      "source": "predictions",
      "execution_count": 36,
      "outputs": [
        {
          "data": {
            "text/plain": "array([1, 1, 0, ..., 1, 1, 1])"
          },
          "execution_count": 36,
          "metadata": {},
          "output_type": "execute_result"
        }
      ]
    },
    {
      "metadata": {
        "_cell_guid": "b31f830d-57f0-4465-93e3-506d317bd139",
        "_uuid": "5cc6cc1fe8629eaa4fdb91566e310675fee4b3f5",
        "trusted": true
      },
      "cell_type": "code",
      "source": "accuracy_score(y_test, predictions)",
      "execution_count": 39,
      "outputs": [
        {
          "data": {
            "text/plain": "0.6946778711484594"
          },
          "execution_count": 39,
          "metadata": {},
          "output_type": "execute_result"
        }
      ]
    },
    {
      "metadata": {
        "trusted": true,
        "_uuid": "5d736462e03f380e46d45fc82d3ae132fa60f57d"
      },
      "cell_type": "code",
      "source": "clas = np.array(['churn','not_churn'])\nclas",
      "execution_count": 43,
      "outputs": [
        {
          "data": {
            "text/plain": "array(['churn', 'not_churn'], dtype='<U9')"
          },
          "execution_count": 43,
          "metadata": {},
          "output_type": "execute_result"
        }
      ]
    },
    {
      "metadata": {
        "_cell_guid": "270d2325-6982-4eca-9bb7-d99eb454ad7b",
        "_uuid": "00ae19741c4db192b468e64a187193648afcd444",
        "trusted": true
      },
      "cell_type": "code",
      "source": "def plot_confusion_matrix(cm, classes,\n                          normalize=False,\n                          title='Confusion matrix',\n                          cmap=plt.cm.Blues):\n    if normalize:\n        cm = cm.astype('float') / cm.sum(axis=1)[:, np.newaxis]\n        print(\"extra tree Normalized confusion matrix\")\n    else:\n        print('extra tree Confusion matrix, without normalization')\n\n    print(cm)\n\n    plt.imshow(cm, interpolation='nearest', cmap=cmap)\n    plt.title(title)\n    plt.colorbar()\n    tick_marks = np.arange(len(classes))\n    plt.xticks(tick_marks, classes, rotation=45)\n    plt.yticks(tick_marks, classes)\n\n    fmt = '.2f' if normalize else 'd'\n    thresh = cm.max() / 2.\n    for i, j in itertools.product(range(cm.shape[0]), range(cm.shape[1])):\n        plt.text(j, i, format(cm[i, j], fmt),\n                 horizontalalignment=\"center\",\n                 color=\"white\" if cm[i, j] > thresh else \"black\")\n\n    plt.tight_layout()\n    plt.ylabel('True label')\n    plt.xlabel('Predicted label')\n\n# Compute confusion matrix\ncnf_matrix = confusion_matrix(y_test, predictions)\nnp.set_printoptions(precision=2)\n\n# Plot non-normalized confusion matrix\nplt.figure()\nplot_confusion_matrix(cnf_matrix, classes=clas,\n                      title='Confusion matrix, without normalization')\n\n# Plot normalized confusion matrix\nplt.figure()\nplot_confusion_matrix(cnf_matrix, classes=clas, normalize=True,\n                      title='Normalized confusion matrix')\n\nplt.show()",
      "execution_count": 44,
      "outputs": [
        {
          "name": "stdout",
          "output_type": "stream",
          "text": "extra tree Confusion matrix, without normalization\n[[1095  166]\n [ 597  641]]\nextra tree Normalized confusion matrix\n[[0.87 0.13]\n [0.48 0.52]]\n"
        },
        {
          "data": {
            "image/png": "[encoded data removed]",
            "text/plain": "<matplotlib.figure.Figure at 0x7f4e4c4dbf98>"
          },
          "metadata": {},
          "output_type": "display_data"
        },
        {
          "data": {
            "image/png": "[encoded data removed]",
            "text/plain": "<matplotlib.figure.Figure at 0x7f4e4c4ffcc0>"
          },
          "metadata": {},
          "output_type": "display_data"
        }
      ]
    },
    {
      "metadata": {
        "_cell_guid": "480ac17a-daf3-4baf-bd7e-935b8e6521d3",
        "_uuid": "471f8309b1927e914eb4d08eeae6940fe9ff3c71",
        "trusted": true
      },
      "cell_type": "code",
      "source": "# Create our OOF train and test predictions. These base results will be used as new features\net_oof_train, et_oof_test = get_oof(et, x_train, y_train, x_test) # Extra Trees\nprint(\"extra\")\nprint(\"Training is complete\")",
      "execution_count": 45,
      "outputs": [
        {
          "name": "stdout",
          "output_type": "stream",
          "text": "extra\nTraining is complete\n"
        }
      ]
    },
    {
      "metadata": {
        "_cell_guid": "0e44e46b-655f-482e-b2dc-1f5b4791c92b",
        "_uuid": "809ddf90fe14426ada5879ec2277010250a7c2e1",
        "trusted": true
      },
      "cell_type": "code",
      "source": "et_oof_test.shape",
      "execution_count": 46,
      "outputs": [
        {
          "data": {
            "text/plain": "(2499, 1)"
          },
          "execution_count": 46,
          "metadata": {},
          "output_type": "execute_result"
        }
      ]
    },
    {
      "metadata": {
        "trusted": true,
        "_uuid": "31b7a3b4eca46f45da60187f8b169277ab320c04"
      },
      "cell_type": "code",
      "source": "et_oof_test[87]",
      "execution_count": 53,
      "outputs": [
        {
          "data": {
            "text/plain": "array([0.4])"
          },
          "execution_count": 53,
          "metadata": {},
          "output_type": "execute_result"
        }
      ]
    },
    {
      "metadata": {
        "_cell_guid": "6a0972ec-5914-4e25-8893-ccbd32f6aaa2",
        "_uuid": "3dca5aa969104c943e759095ef2473fdcde77e07",
        "trusted": true
      },
      "cell_type": "code",
      "source": "et_oof_train.shape",
      "execution_count": 54,
      "outputs": [
        {
          "data": {
            "text/plain": "(7501, 1)"
          },
          "execution_count": 54,
          "metadata": {},
          "output_type": "execute_result"
        }
      ]
    },
    {
      "metadata": {
        "_cell_guid": "1e38d826-a630-4fc5-8c88-57a6a37d29ac",
        "_uuid": "c3cd56cd1b9d58b210cb6810deac69181d52bd02",
        "trusted": true
      },
      "cell_type": "code",
      "source": "rf_oof_train, rf_oof_test = get_oof(rf,x_train, y_train, x_test) # Random Forest\nprint(\"forest\")\n",
      "execution_count": 55,
      "outputs": [
        {
          "name": "stdout",
          "output_type": "stream",
          "text": "forest\n"
        }
      ]
    },
    {
      "metadata": {
        "_cell_guid": "1ff21430-c347-45e1-a3df-38493fb60e2a",
        "_uuid": "fbd3e0ae8c70cafe1fcad0d8135a53f94817ce57",
        "trusted": true
      },
      "cell_type": "code",
      "source": "ada_oof_train, ada_oof_test = get_oof(ada, x_train, y_train, x_test) # AdaBoost \nprint(\"ada\")\n",
      "execution_count": 56,
      "outputs": [
        {
          "name": "stdout",
          "output_type": "stream",
          "text": "ada\n"
        }
      ]
    },
    {
      "metadata": {
        "_cell_guid": "d42d14c1-a574-434a-88cb-a228b8053b6d",
        "_uuid": "f23d2f5351b568965e1c384f00a228190bab8409",
        "trusted": true
      },
      "cell_type": "code",
      "source": "gb_oof_train, gb_oof_test = get_oof(gb,x_train, y_train, x_test) # Gradient Boost\nprint(\"grad\")",
      "execution_count": 57,
      "outputs": [
        {
          "name": "stdout",
          "output_type": "stream",
          "text": "grad\n"
        }
      ]
    },
    {
      "metadata": {
        "_cell_guid": "67a17789-ee92-4765-992a-0a123e991d1d",
        "_uuid": "39389470f6c815319bd70b69119c21eace0a0389",
        "trusted": true
      },
      "cell_type": "code",
      "source": "rf_feature = rf.feature_importances(x_train,y_train)\net_feature = et.feature_importances(x_train, y_train)\nada_feature = ada.feature_importances(x_train, y_train)\ngb_feature = gb.feature_importances(x_train,y_train)",
      "execution_count": 58,
      "outputs": [
        {
          "name": "stdout",
          "output_type": "stream",
          "text": "[0.02 0.06 0.01 0.02 0.02 0.23 0.01 0.03 0.   0.01 0.01 0.01 0.01 0.01\n 0.01 0.02 0.1  0.33 0.03 0.04]\n[2.29e-04 1.81e-02 3.61e-02 3.24e-02 2.82e-02 2.82e-01 4.18e-04 1.15e-02\n 3.61e-04 3.78e-02 1.07e-03 1.11e-03 2.82e-03 5.23e-03 3.76e-04 7.18e-02\n 2.19e-02 3.35e-01 5.43e-02 5.93e-02]\n[0.24 0.12 0.   0.02 0.02 0.   0.01 0.09 0.   0.   0.01 0.   0.04 0.\n 0.   0.02 0.12 0.   0.16 0.14]\n[0.24 0.04 0.01 0.01 0.01 0.01 0.06 0.1  0.02 0.01 0.04 0.01 0.04 0.01\n 0.05 0.02 0.06 0.03 0.12 0.11]\n"
        }
      ]
    },
    {
      "metadata": {
        "_cell_guid": "7c81919a-8ed9-46c7-8be1-10e28c037ccc",
        "_uuid": "404f9d1c7f909e5bd5775838ea519dda3556f2c2",
        "collapsed": true,
        "trusted": true
      },
      "cell_type": "code",
      "source": "rf_features = [0.01756911, 0.0627274,  0.00888048, 0.02459727, 0.02426118, 0.2297879,\n 0.0078791,  0.03310744, 0.00191328, 0.01108822, 0.01011235, 0.0073031,\n 0.0129614,  0.00644591, 0.00918351, 0.02271843, 0.10061091, 0.33043497,\n 0.03434471, 0.04407334]\net_features = [2.28510724e-04, 1.80830719e-02, 3.61323817e-02, 3.23926971e-02,\n 2.81802352e-02, 2.81807550e-01, 4.17996750e-04, 1.14585376e-02,\n 3.61159932e-04, 3.77749497e-02, 1.07368313e-03, 1.11176474e-03,\n 2.82294873e-03, 5.22520761e-03, 3.76234810e-04, 7.17671446e-02,\n 2.18515219e-02, 3.35278641e-01, 5.43186072e-02, 5.93371550e-02]\nada_features = [0.236, 0.122, 0.002, 0.016, 0.024, 0.002, 0.008, 0.086, 0.002, 0.002, 0.01, 0.002,\n 0.042, 0.002, 0.004, 0.022, 0.116, 0.002, 0.162, 0.138]\ngb_features = [0.24221627, 0.04276541, 0.00560166, 0.0119653, 0.01299966, 0.00703854,\n 0.05643939, 0.10266292, 0.01659545, 0.01485705, 0.03719272, 0.01029425,\n 0.04231092, 0.01177388, 0.04818219, 0.02169362, 0.05691861, 0.02881548,\n 0.11817149, 0.11150517]",
      "execution_count": 59,
      "outputs": []
    },
    {
      "metadata": {
        "_cell_guid": "6d1dbe58-6e62-4e04-aff7-652bd86d4435",
        "_uuid": "22010c9eca4e77ed50a1f81ba64aec412c54e0c5",
        "collapsed": true,
        "trusted": true
      },
      "cell_type": "code",
      "source": "cols = np.array(['msno', 'payment_method_id', 'payment_plan_days',\n       'plan_list_price', 'actual_amount_paid', 'is_auto_renew', 'city',\n       'bd', 'gender', 'registered_via', 'trans_month', 'trans_year',\n       'expire_month', 'expire_year', 'registration_month',\n       'registration_year', 'membership_duration',\n       'autorenew_._not_cancel', 'registration_duration',\n       'reg_mem_duration'])",
      "execution_count": 60,
      "outputs": []
    },
    {
      "metadata": {
        "_cell_guid": "7d5f94bf-cf55-4b75-99e1-d40077bf573a",
        "_uuid": "dcf8f5c981c3b7b33e7c7e4f2369130ada72ece4",
        "collapsed": true,
        "trusted": true
      },
      "cell_type": "code",
      "source": "# Create a dataframe with features\nfeature_dataframe = pd.DataFrame( {'features': cols,\n     'Random Forest feature importances': rf_features,\n     'Extra Trees  feature importances': et_features,\n      'AdaBoost feature importances': ada_features,\n    'Gradient Boost feature importances': gb_features\n    })",
      "execution_count": 61,
      "outputs": []
    },
    {
      "metadata": {
        "_cell_guid": "ecb72c47-1faa-49f1-a422-485eac32b167",
        "_uuid": "ec45a7d9190386ffde59a49a420069ee9b673bb4",
        "trusted": true
      },
      "cell_type": "code",
      "source": "# Scatter plot \ntrace = go.Scatter(\n    y = feature_dataframe['Random Forest feature importances'].values,\n    x = feature_dataframe['features'].values,\n    mode='markers',\n    marker=dict(\n        sizemode = 'diameter',\n        sizeref = 1,\n        size = 25,\n#       size= feature_dataframe['AdaBoost feature importances'].values,\n        #color = np.random.randn(500), #set color equal to a variable\n        color = feature_dataframe['Random Forest feature importances'].values,\n        colorscale='Portland',\n        showscale=True\n    ),\n    text = feature_dataframe['features'].values\n)\ndata = [trace]\n\nlayout= go.Layout(\n    autosize= True,\n    title= 'Random Forest Feature Importance',\n    hovermode= 'closest',\n#     xaxis= dict(\n#         title= 'Pop',\n#         ticklen= 5,\n#         zeroline= False,\n#         gridwidth= 2,\n#     ),\n    yaxis=dict(\n        title= 'Feature Importance',\n        ticklen= 5,\n        gridwidth= 2\n    ),\n    showlegend= False\n)\nfig = go.Figure(data=data, layout=layout)\npy.iplot(fig,filename='scatter2010')\n\n# Scatter plot \ntrace = go.Scatter(\n    y = feature_dataframe['Extra Trees  feature importances'].values,\n    x = feature_dataframe['features'].values,\n    mode='markers',\n    marker=dict(\n        sizemode = 'diameter',\n        sizeref = 1,\n        size = 25,\n#       size= feature_dataframe['AdaBoost feature importances'].values,\n        #color = np.random.randn(500), #set color equal to a variable\n        color = feature_dataframe['Extra Trees  feature importances'].values,\n        colorscale='Portland',\n        showscale=True\n    ),\n    text = feature_dataframe['features'].values\n)\ndata = [trace]\n\nlayout= go.Layout(\n    autosize= True,\n    title= 'Extra Trees Feature Importance',\n    hovermode= 'closest',\n#     xaxis= dict(\n#         title= 'Pop',\n#         ticklen= 5,\n#         zeroline= False,\n#         gridwidth= 2,\n#     ),\n    yaxis=dict(\n        title= 'Feature Importance',\n        ticklen= 5,\n        gridwidth= 2\n    ),\n    showlegend= False\n)\nfig = go.Figure(data=data, layout=layout)\npy.iplot(fig,filename='scatter2010')\n\n# Scatter plot \ntrace = go.Scatter(\n    y = feature_dataframe['AdaBoost feature importances'].values,\n    x = feature_dataframe['features'].values,\n    mode='markers',\n    marker=dict(\n        sizemode = 'diameter',\n        sizeref = 1,\n        size = 25,\n#       size= feature_dataframe['AdaBoost feature importances'].values,\n        #color = np.random.randn(500), #set color equal to a variable\n        color = feature_dataframe['AdaBoost feature importances'].values,\n        colorscale='Portland',\n        showscale=True\n    ),\n    text = feature_dataframe['features'].values\n)\ndata = [trace]\n\nlayout= go.Layout(\n    autosize= True,\n    title= 'AdaBoost Feature Importance',\n    hovermode= 'closest',\n#     xaxis= dict(\n#         title= 'Pop',\n#         ticklen= 5,\n#         zeroline= False,\n#         gridwidth= 2,\n#     ),\n    yaxis=dict(\n        title= 'Feature Importance',\n        ticklen= 5,\n        gridwidth= 2\n    ),\n    showlegend= False\n)\nfig = go.Figure(data=data, layout=layout)\npy.iplot(fig,filename='scatter2010')\n\n# Scatter plot \ntrace = go.Scatter(\n    y = feature_dataframe['Gradient Boost feature importances'].values,\n    x = feature_dataframe['features'].values,\n    mode='markers',\n    marker=dict(\n        sizemode = 'diameter',\n        sizeref = 1,\n        size = 25,\n#       size= feature_dataframe['AdaBoost feature importances'].values,\n        #color = np.random.randn(500), #set color equal to a variable\n        color = feature_dataframe['Gradient Boost feature importances'].values,\n        colorscale='Portland',\n        showscale=True\n    ),\n    text = feature_dataframe['features'].values\n)\ndata = [trace]\n\nlayout= go.Layout(\n    autosize= True,\n    title= 'Gradient Boosting Feature Importance',\n    hovermode= 'closest',\n#     xaxis= dict(\n#         title= 'Pop',\n#         ticklen= 5,\n#         zeroline= False,\n#         gridwidth= 2,\n#     ),\n    yaxis=dict(\n        title= 'Feature Importance',\n        ticklen= 5,\n        gridwidth= 2\n    ),\n    showlegend= False\n)\nfig = go.Figure(data=data, layout=layout)\npy.iplot(fig,filename='scatter2010')",
      "execution_count": 62,
      "outputs": [
        {
          "data": {
            "application/vnd.plotly.v1+json": {
              "data": [
                {
                  "marker": {
                    "color": [
                      0.01756911,
                      0.0627274,
                      0.00888048,
                      0.02459727,
                      0.02426118,
                      0.2297879,
                      0.0078791,
                      0.03310744,
                      0.00191328,
                      0.01108822,
                      0.01011235,
                      0.0073031,
                      0.0129614,
                      0.00644591,
                      0.00918351,
                      0.02271843,
                      0.10061091,
                      0.33043497,
                      0.03434471,
                      0.04407334
                    ],
                    "colorscale": "Portland",
                    "showscale": true,
                    "size": 25,
                    "sizemode": "diameter",
                    "sizeref": 1
                  },
                  "mode": "markers",
                  "text": [
                    "msno",
                    "payment_method_id",
                    "payment_plan_days",
                    "plan_list_price",
                    "actual_amount_paid",
                    "is_auto_renew",
                    "city",
                    "bd",
                    "gender",
                    "registered_via",
                    "trans_month",
                    "trans_year",
                    "expire_month",
                    "expire_year",
                    "registration_month",
                    "registration_year",
                    "membership_duration",
                    "autorenew_._not_cancel",
                    "registration_duration",
                    "reg_mem_duration"
                  ],
                  "type": "scatter",
                  "x": [
                    "msno",
                    "payment_method_id",
                    "payment_plan_days",
                    "plan_list_price",
                    "actual_amount_paid",
                    "is_auto_renew",
                    "city",
                    "bd",
                    "gender",
                    "registered_via",
                    "trans_month",
                    "trans_year",
                    "expire_month",
                    "expire_year",
                    "registration_month",
                    "registration_year",
                    "membership_duration",
                    "autorenew_._not_cancel",
                    "registration_duration",
                    "reg_mem_duration"
                  ],
                  "y": [
                    0.01756911,
                    0.0627274,
                    0.00888048,
                    0.02459727,
                    0.02426118,
                    0.2297879,
                    0.0078791,
                    0.03310744,
                    0.00191328,
                    0.01108822,
                    0.01011235,
                    0.0073031,
                    0.0129614,
                    0.00644591,
                    0.00918351,
                    0.02271843,
                    0.10061091,
                    0.33043497,
                    0.03434471,
                    0.04407334
                  ]
                }
              ],
              "layout": {
                "autosize": true,
                "hovermode": "closest",
                "showlegend": false,
                "title": "Random Forest Feature Importance",
                "yaxis": {
                  "gridwidth": 2,
                  "ticklen": 5,
                  "title": "Feature Importance"
                }
              }
            },
            "text/html": "<div id=\"283c0ebb-11f9-4cc9-ac12-d439f6a33614\" style=\"height: 525px; width: 100%;\" class=\"plotly-graph-div\"></div><script type=\"text/javascript\">require([\"plotly\"], function(Plotly) { window.PLOTLYENV=window.PLOTLYENV || {};window.PLOTLYENV.BASE_URL=\"https://plot.ly\";Plotly.newPlot(\"283c0ebb-11f9-4cc9-ac12-d439f6a33614\", [{\"type\": \"scatter\", \"y\": [0.01756911, 0.0627274, 0.00888048, 0.02459727, 0.02426118, 0.2297879, 0.0078791, 0.03310744, 0.00191328, 0.01108822, 0.01011235, 0.0073031, 0.0129614, 0.00644591, 0.00918351, 0.02271843, 0.10061091, 0.33043497, 0.03434471, 0.04407334], \"x\": [\"msno\", \"payment_method_id\", \"payment_plan_days\", \"plan_list_price\", \"actual_amount_paid\", \"is_auto_renew\", \"city\", \"bd\", \"gender\", \"registered_via\", \"trans_month\", \"trans_year\", \"expire_month\", \"expire_year\", \"registration_month\", \"registration_year\", \"membership_duration\", \"autorenew_._not_cancel\", \"registration_duration\", \"reg_mem_duration\"], \"mode\": \"markers\", \"marker\": {\"sizemode\": \"diameter\", \"sizeref\": 1, \"size\": 25, \"color\": [0.01756911, 0.0627274, 0.00888048, 0.02459727, 0.02426118, 0.2297879, 0.0078791, 0.03310744, 0.00191328, 0.01108822, 0.01011235, 0.0073031, 0.0129614, 0.00644591, 0.00918351, 0.02271843, 0.10061091, 0.33043497, 0.03434471, 0.04407334], \"colorscale\": \"Portland\", \"showscale\": true}, \"text\": [\"msno\", \"payment_method_id\", \"payment_plan_days\", \"plan_list_price\", \"actual_amount_paid\", \"is_auto_renew\", \"city\", \"bd\", \"gender\", \"registered_via\", \"trans_month\", \"trans_year\", \"expire_month\", \"expire_year\", \"registration_month\", \"registration_year\", \"membership_duration\", \"autorenew_._not_cancel\", \"registration_duration\", \"reg_mem_duration\"]}], {\"autosize\": true, \"title\": \"Random Forest Feature Importance\", \"hovermode\": \"closest\", \"yaxis\": {\"title\": \"Feature Importance\", \"ticklen\": 5, \"gridwidth\": 2}, \"showlegend\": false}, {\"showLink\": true, \"linkText\": \"Export to plot.ly\"})});</script>",
            "text/vnd.plotly.v1+html": "<div id=\"283c0ebb-11f9-4cc9-ac12-d439f6a33614\" style=\"height: 525px; width: 100%;\" class=\"plotly-graph-div\"></div><script type=\"text/javascript\">require([\"plotly\"], function(Plotly) { window.PLOTLYENV=window.PLOTLYENV || {};window.PLOTLYENV.BASE_URL=\"https://plot.ly\";Plotly.newPlot(\"283c0ebb-11f9-4cc9-ac12-d439f6a33614\", [{\"type\": \"scatter\", \"y\": [0.01756911, 0.0627274, 0.00888048, 0.02459727, 0.02426118, 0.2297879, 0.0078791, 0.03310744, 0.00191328, 0.01108822, 0.01011235, 0.0073031, 0.0129614, 0.00644591, 0.00918351, 0.02271843, 0.10061091, 0.33043497, 0.03434471, 0.04407334], \"x\": [\"msno\", \"payment_method_id\", \"payment_plan_days\", \"plan_list_price\", \"actual_amount_paid\", \"is_auto_renew\", \"city\", \"bd\", \"gender\", \"registered_via\", \"trans_month\", \"trans_year\", \"expire_month\", \"expire_year\", \"registration_month\", \"registration_year\", \"membership_duration\", \"autorenew_._not_cancel\", \"registration_duration\", \"reg_mem_duration\"], \"mode\": \"markers\", \"marker\": {\"sizemode\": \"diameter\", \"sizeref\": 1, \"size\": 25, \"color\": [0.01756911, 0.0627274, 0.00888048, 0.02459727, 0.02426118, 0.2297879, 0.0078791, 0.03310744, 0.00191328, 0.01108822, 0.01011235, 0.0073031, 0.0129614, 0.00644591, 0.00918351, 0.02271843, 0.10061091, 0.33043497, 0.03434471, 0.04407334], \"colorscale\": \"Portland\", \"showscale\": true}, \"text\": [\"msno\", \"payment_method_id\", \"payment_plan_days\", \"plan_list_price\", \"actual_amount_paid\", \"is_auto_renew\", \"city\", \"bd\", \"gender\", \"registered_via\", \"trans_month\", \"trans_year\", \"expire_month\", \"expire_year\", \"registration_month\", \"registration_year\", \"membership_duration\", \"autorenew_._not_cancel\", \"registration_duration\", \"reg_mem_duration\"]}], {\"autosize\": true, \"title\": \"Random Forest Feature Importance\", \"hovermode\": \"closest\", \"yaxis\": {\"title\": \"Feature Importance\", \"ticklen\": 5, \"gridwidth\": 2}, \"showlegend\": false}, {\"showLink\": true, \"linkText\": \"Export to plot.ly\"})});</script>"
          },
          "metadata": {},
          "output_type": "display_data"
        },
        {
          "data": {
            "application/vnd.plotly.v1+json": {
              "data": [
                {
                  "marker": {
                    "color": [
                      0.000228510724,
                      0.0180830719,
                      0.0361323817,
                      0.0323926971,
                      0.0281802352,
                      0.28180755,
                      0.00041799675,
                      0.0114585376,
                      0.000361159932,
                      0.0377749497,
                      0.00107368313,
                      0.00111176474,
                      0.00282294873,
                      0.00522520761,
                      0.00037623481,
                      0.0717671446,
                      0.0218515219,
                      0.335278641,
                      0.0543186072,
                      0.059337155
                    ],
                    "colorscale": "Portland",
                    "showscale": true,
                    "size": 25,
                    "sizemode": "diameter",
                    "sizeref": 1
                  },
                  "mode": "markers",
                  "text": [
                    "msno",
                    "payment_method_id",
                    "payment_plan_days",
                    "plan_list_price",
                    "actual_amount_paid",
                    "is_auto_renew",
                    "city",
                    "bd",
                    "gender",
                    "registered_via",
                    "trans_month",
                    "trans_year",
                    "expire_month",
                    "expire_year",
                    "registration_month",
                    "registration_year",
                    "membership_duration",
                    "autorenew_._not_cancel",
                    "registration_duration",
                    "reg_mem_duration"
                  ],
                  "type": "scatter",
                  "x": [
                    "msno",
                    "payment_method_id",
                    "payment_plan_days",
                    "plan_list_price",
                    "actual_amount_paid",
                    "is_auto_renew",
                    "city",
                    "bd",
                    "gender",
                    "registered_via",
                    "trans_month",
                    "trans_year",
                    "expire_month",
                    "expire_year",
                    "registration_month",
                    "registration_year",
                    "membership_duration",
                    "autorenew_._not_cancel",
                    "registration_duration",
                    "reg_mem_duration"
                  ],
                  "y": [
                    0.000228510724,
                    0.0180830719,
                    0.0361323817,
                    0.0323926971,
                    0.0281802352,
                    0.28180755,
                    0.00041799675,
                    0.0114585376,
                    0.000361159932,
                    0.0377749497,
                    0.00107368313,
                    0.00111176474,
                    0.00282294873,
                    0.00522520761,
                    0.00037623481,
                    0.0717671446,
                    0.0218515219,
                    0.335278641,
                    0.0543186072,
                    0.059337155
                  ]
                }
              ],
              "layout": {
                "autosize": true,
                "hovermode": "closest",
                "showlegend": false,
                "title": "Extra Trees Feature Importance",
                "yaxis": {
                  "gridwidth": 2,
                  "ticklen": 5,
                  "title": "Feature Importance"
                }
              }
            },
            "text/html": "<div id=\"703e01f1-bff7-4ca4-924a-76ff2e171201\" style=\"height: 525px; width: 100%;\" class=\"plotly-graph-div\"></div><script type=\"text/javascript\">require([\"plotly\"], function(Plotly) { window.PLOTLYENV=window.PLOTLYENV || {};window.PLOTLYENV.BASE_URL=\"https://plot.ly\";Plotly.newPlot(\"703e01f1-bff7-4ca4-924a-76ff2e171201\", [{\"type\": \"scatter\", \"y\": [0.000228510724, 0.0180830719, 0.0361323817, 0.0323926971, 0.0281802352, 0.28180755, 0.00041799675, 0.0114585376, 0.000361159932, 0.0377749497, 0.00107368313, 0.00111176474, 0.00282294873, 0.00522520761, 0.00037623481, 0.0717671446, 0.0218515219, 0.335278641, 0.0543186072, 0.059337155], \"x\": [\"msno\", \"payment_method_id\", \"payment_plan_days\", \"plan_list_price\", \"actual_amount_paid\", \"is_auto_renew\", \"city\", \"bd\", \"gender\", \"registered_via\", \"trans_month\", \"trans_year\", \"expire_month\", \"expire_year\", \"registration_month\", \"registration_year\", \"membership_duration\", \"autorenew_._not_cancel\", \"registration_duration\", \"reg_mem_duration\"], \"mode\": \"markers\", \"marker\": {\"sizemode\": \"diameter\", \"sizeref\": 1, \"size\": 25, \"color\": [0.000228510724, 0.0180830719, 0.0361323817, 0.0323926971, 0.0281802352, 0.28180755, 0.00041799675, 0.0114585376, 0.000361159932, 0.0377749497, 0.00107368313, 0.00111176474, 0.00282294873, 0.00522520761, 0.00037623481, 0.0717671446, 0.0218515219, 0.335278641, 0.0543186072, 0.059337155], \"colorscale\": \"Portland\", \"showscale\": true}, \"text\": [\"msno\", \"payment_method_id\", \"payment_plan_days\", \"plan_list_price\", \"actual_amount_paid\", \"is_auto_renew\", \"city\", \"bd\", \"gender\", \"registered_via\", \"trans_month\", \"trans_year\", \"expire_month\", \"expire_year\", \"registration_month\", \"registration_year\", \"membership_duration\", \"autorenew_._not_cancel\", \"registration_duration\", \"reg_mem_duration\"]}], {\"autosize\": true, \"title\": \"Extra Trees Feature Importance\", \"hovermode\": \"closest\", \"yaxis\": {\"title\": \"Feature Importance\", \"ticklen\": 5, \"gridwidth\": 2}, \"showlegend\": false}, {\"showLink\": true, \"linkText\": \"Export to plot.ly\"})});</script>",
            "text/vnd.plotly.v1+html": "<div id=\"703e01f1-bff7-4ca4-924a-76ff2e171201\" style=\"height: 525px; width: 100%;\" class=\"plotly-graph-div\"></div><script type=\"text/javascript\">require([\"plotly\"], function(Plotly) { window.PLOTLYENV=window.PLOTLYENV || {};window.PLOTLYENV.BASE_URL=\"https://plot.ly\";Plotly.newPlot(\"703e01f1-bff7-4ca4-924a-76ff2e171201\", [{\"type\": \"scatter\", \"y\": [0.000228510724, 0.0180830719, 0.0361323817, 0.0323926971, 0.0281802352, 0.28180755, 0.00041799675, 0.0114585376, 0.000361159932, 0.0377749497, 0.00107368313, 0.00111176474, 0.00282294873, 0.00522520761, 0.00037623481, 0.0717671446, 0.0218515219, 0.335278641, 0.0543186072, 0.059337155], \"x\": [\"msno\", \"payment_method_id\", \"payment_plan_days\", \"plan_list_price\", \"actual_amount_paid\", \"is_auto_renew\", \"city\", \"bd\", \"gender\", \"registered_via\", \"trans_month\", \"trans_year\", \"expire_month\", \"expire_year\", \"registration_month\", \"registration_year\", \"membership_duration\", \"autorenew_._not_cancel\", \"registration_duration\", \"reg_mem_duration\"], \"mode\": \"markers\", \"marker\": {\"sizemode\": \"diameter\", \"sizeref\": 1, \"size\": 25, \"color\": [0.000228510724, 0.0180830719, 0.0361323817, 0.0323926971, 0.0281802352, 0.28180755, 0.00041799675, 0.0114585376, 0.000361159932, 0.0377749497, 0.00107368313, 0.00111176474, 0.00282294873, 0.00522520761, 0.00037623481, 0.0717671446, 0.0218515219, 0.335278641, 0.0543186072, 0.059337155], \"colorscale\": \"Portland\", \"showscale\": true}, \"text\": [\"msno\", \"payment_method_id\", \"payment_plan_days\", \"plan_list_price\", \"actual_amount_paid\", \"is_auto_renew\", \"city\", \"bd\", \"gender\", \"registered_via\", \"trans_month\", \"trans_year\", \"expire_month\", \"expire_year\", \"registration_month\", \"registration_year\", \"membership_duration\", \"autorenew_._not_cancel\", \"registration_duration\", \"reg_mem_duration\"]}], {\"autosize\": true, \"title\": \"Extra Trees Feature Importance\", \"hovermode\": \"closest\", \"yaxis\": {\"title\": \"Feature Importance\", \"ticklen\": 5, \"gridwidth\": 2}, \"showlegend\": false}, {\"showLink\": true, \"linkText\": \"Export to plot.ly\"})});</script>"
          },
          "metadata": {},
          "output_type": "display_data"
        },
        {
          "data": {
            "application/vnd.plotly.v1+json": {
              "data": [
                {
                  "marker": {
                    "color": [
                      0.236,
                      0.122,
                      0.002,
                      0.016,
                      0.024,
                      0.002,
                      0.008,
                      0.086,
                      0.002,
                      0.002,
                      0.01,
                      0.002,
                      0.042,
                      0.002,
                      0.004,
                      0.022,
                      0.116,
                      0.002,
                      0.162,
                      0.138
                    ],
                    "colorscale": "Portland",
                    "showscale": true,
                    "size": 25,
                    "sizemode": "diameter",
                    "sizeref": 1
                  },
                  "mode": "markers",
                  "text": [
                    "msno",
                    "payment_method_id",
                    "payment_plan_days",
                    "plan_list_price",
                    "actual_amount_paid",
                    "is_auto_renew",
                    "city",
                    "bd",
                    "gender",
                    "registered_via",
                    "trans_month",
                    "trans_year",
                    "expire_month",
                    "expire_year",
                    "registration_month",
                    "registration_year",
                    "membership_duration",
                    "autorenew_._not_cancel",
                    "registration_duration",
                    "reg_mem_duration"
                  ],
                  "type": "scatter",
                  "x": [
                    "msno",
                    "payment_method_id",
                    "payment_plan_days",
                    "plan_list_price",
                    "actual_amount_paid",
                    "is_auto_renew",
                    "city",
                    "bd",
                    "gender",
                    "registered_via",
                    "trans_month",
                    "trans_year",
                    "expire_month",
                    "expire_year",
                    "registration_month",
                    "registration_year",
                    "membership_duration",
                    "autorenew_._not_cancel",
                    "registration_duration",
                    "reg_mem_duration"
                  ],
                  "y": [
                    0.236,
                    0.122,
                    0.002,
                    0.016,
                    0.024,
                    0.002,
                    0.008,
                    0.086,
                    0.002,
                    0.002,
                    0.01,
                    0.002,
                    0.042,
                    0.002,
                    0.004,
                    0.022,
                    0.116,
                    0.002,
                    0.162,
                    0.138
                  ]
                }
              ],
              "layout": {
                "autosize": true,
                "hovermode": "closest",
                "showlegend": false,
                "title": "AdaBoost Feature Importance",
                "yaxis": {
                  "gridwidth": 2,
                  "ticklen": 5,
                  "title": "Feature Importance"
                }
              }
            },
            "text/html": "<div id=\"120ebb09-c198-45ee-a161-3edc03bc20ac\" style=\"height: 525px; width: 100%;\" class=\"plotly-graph-div\"></div><script type=\"text/javascript\">require([\"plotly\"], function(Plotly) { window.PLOTLYENV=window.PLOTLYENV || {};window.PLOTLYENV.BASE_URL=\"https://plot.ly\";Plotly.newPlot(\"120ebb09-c198-45ee-a161-3edc03bc20ac\", [{\"type\": \"scatter\", \"y\": [0.236, 0.122, 0.002, 0.016, 0.024, 0.002, 0.008, 0.086, 0.002, 0.002, 0.01, 0.002, 0.042, 0.002, 0.004, 0.022, 0.116, 0.002, 0.162, 0.138], \"x\": [\"msno\", \"payment_method_id\", \"payment_plan_days\", \"plan_list_price\", \"actual_amount_paid\", \"is_auto_renew\", \"city\", \"bd\", \"gender\", \"registered_via\", \"trans_month\", \"trans_year\", \"expire_month\", \"expire_year\", \"registration_month\", \"registration_year\", \"membership_duration\", \"autorenew_._not_cancel\", \"registration_duration\", \"reg_mem_duration\"], \"mode\": \"markers\", \"marker\": {\"sizemode\": \"diameter\", \"sizeref\": 1, \"size\": 25, \"color\": [0.236, 0.122, 0.002, 0.016, 0.024, 0.002, 0.008, 0.086, 0.002, 0.002, 0.01, 0.002, 0.042, 0.002, 0.004, 0.022, 0.116, 0.002, 0.162, 0.138], \"colorscale\": \"Portland\", \"showscale\": true}, \"text\": [\"msno\", \"payment_method_id\", \"payment_plan_days\", \"plan_list_price\", \"actual_amount_paid\", \"is_auto_renew\", \"city\", \"bd\", \"gender\", \"registered_via\", \"trans_month\", \"trans_year\", \"expire_month\", \"expire_year\", \"registration_month\", \"registration_year\", \"membership_duration\", \"autorenew_._not_cancel\", \"registration_duration\", \"reg_mem_duration\"]}], {\"autosize\": true, \"title\": \"AdaBoost Feature Importance\", \"hovermode\": \"closest\", \"yaxis\": {\"title\": \"Feature Importance\", \"ticklen\": 5, \"gridwidth\": 2}, \"showlegend\": false}, {\"showLink\": true, \"linkText\": \"Export to plot.ly\"})});</script>",
            "text/vnd.plotly.v1+html": "<div id=\"120ebb09-c198-45ee-a161-3edc03bc20ac\" style=\"height: 525px; width: 100%;\" class=\"plotly-graph-div\"></div><script type=\"text/javascript\">require([\"plotly\"], function(Plotly) { window.PLOTLYENV=window.PLOTLYENV || {};window.PLOTLYENV.BASE_URL=\"https://plot.ly\";Plotly.newPlot(\"120ebb09-c198-45ee-a161-3edc03bc20ac\", [{\"type\": \"scatter\", \"y\": [0.236, 0.122, 0.002, 0.016, 0.024, 0.002, 0.008, 0.086, 0.002, 0.002, 0.01, 0.002, 0.042, 0.002, 0.004, 0.022, 0.116, 0.002, 0.162, 0.138], \"x\": [\"msno\", \"payment_method_id\", \"payment_plan_days\", \"plan_list_price\", \"actual_amount_paid\", \"is_auto_renew\", \"city\", \"bd\", \"gender\", \"registered_via\", \"trans_month\", \"trans_year\", \"expire_month\", \"expire_year\", \"registration_month\", \"registration_year\", \"membership_duration\", \"autorenew_._not_cancel\", \"registration_duration\", \"reg_mem_duration\"], \"mode\": \"markers\", \"marker\": {\"sizemode\": \"diameter\", \"sizeref\": 1, \"size\": 25, \"color\": [0.236, 0.122, 0.002, 0.016, 0.024, 0.002, 0.008, 0.086, 0.002, 0.002, 0.01, 0.002, 0.042, 0.002, 0.004, 0.022, 0.116, 0.002, 0.162, 0.138], \"colorscale\": \"Portland\", \"showscale\": true}, \"text\": [\"msno\", \"payment_method_id\", \"payment_plan_days\", \"plan_list_price\", \"actual_amount_paid\", \"is_auto_renew\", \"city\", \"bd\", \"gender\", \"registered_via\", \"trans_month\", \"trans_year\", \"expire_month\", \"expire_year\", \"registration_month\", \"registration_year\", \"membership_duration\", \"autorenew_._not_cancel\", \"registration_duration\", \"reg_mem_duration\"]}], {\"autosize\": true, \"title\": \"AdaBoost Feature Importance\", \"hovermode\": \"closest\", \"yaxis\": {\"title\": \"Feature Importance\", \"ticklen\": 5, \"gridwidth\": 2}, \"showlegend\": false}, {\"showLink\": true, \"linkText\": \"Export to plot.ly\"})});</script>"
          },
          "metadata": {},
          "output_type": "display_data"
        },
        {
          "data": {
            "application/vnd.plotly.v1+json": {
              "data": [
                {
                  "marker": {
                    "color": [
                      0.24221627,
                      0.04276541,
                      0.00560166,
                      0.0119653,
                      0.01299966,
                      0.00703854,
                      0.05643939,
                      0.10266292,
                      0.01659545,
                      0.01485705,
                      0.03719272,
                      0.01029425,
                      0.04231092,
                      0.01177388,
                      0.04818219,
                      0.02169362,
                      0.05691861,
                      0.02881548,
                      0.11817149,
                      0.11150517
                    ],
                    "colorscale": "Portland",
                    "showscale": true,
                    "size": 25,
                    "sizemode": "diameter",
                    "sizeref": 1
                  },
                  "mode": "markers",
                  "text": [
                    "msno",
                    "payment_method_id",
                    "payment_plan_days",
                    "plan_list_price",
                    "actual_amount_paid",
                    "is_auto_renew",
                    "city",
                    "bd",
                    "gender",
                    "registered_via",
                    "trans_month",
                    "trans_year",
                    "expire_month",
                    "expire_year",
                    "registration_month",
                    "registration_year",
                    "membership_duration",
                    "autorenew_._not_cancel",
                    "registration_duration",
                    "reg_mem_duration"
                  ],
                  "type": "scatter",
                  "x": [
                    "msno",
                    "payment_method_id",
                    "payment_plan_days",
                    "plan_list_price",
                    "actual_amount_paid",
                    "is_auto_renew",
                    "city",
                    "bd",
                    "gender",
                    "registered_via",
                    "trans_month",
                    "trans_year",
                    "expire_month",
                    "expire_year",
                    "registration_month",
                    "registration_year",
                    "membership_duration",
                    "autorenew_._not_cancel",
                    "registration_duration",
                    "reg_mem_duration"
                  ],
                  "y": [
                    0.24221627,
                    0.04276541,
                    0.00560166,
                    0.0119653,
                    0.01299966,
                    0.00703854,
                    0.05643939,
                    0.10266292,
                    0.01659545,
                    0.01485705,
                    0.03719272,
                    0.01029425,
                    0.04231092,
                    0.01177388,
                    0.04818219,
                    0.02169362,
                    0.05691861,
                    0.02881548,
                    0.11817149,
                    0.11150517
                  ]
                }
              ],
              "layout": {
                "autosize": true,
                "hovermode": "closest",
                "showlegend": false,
                "title": "Gradient Boosting Feature Importance",
                "yaxis": {
                  "gridwidth": 2,
                  "ticklen": 5,
                  "title": "Feature Importance"
                }
              }
            },
            "text/html": "<div id=\"477633d1-e3b7-4051-8d67-2c9572be2759\" style=\"height: 525px; width: 100%;\" class=\"plotly-graph-div\"></div><script type=\"text/javascript\">require([\"plotly\"], function(Plotly) { window.PLOTLYENV=window.PLOTLYENV || {};window.PLOTLYENV.BASE_URL=\"https://plot.ly\";Plotly.newPlot(\"477633d1-e3b7-4051-8d67-2c9572be2759\", [{\"type\": \"scatter\", \"y\": [0.24221627, 0.04276541, 0.00560166, 0.0119653, 0.01299966, 0.00703854, 0.05643939, 0.10266292, 0.01659545, 0.01485705, 0.03719272, 0.01029425, 0.04231092, 0.01177388, 0.04818219, 0.02169362, 0.05691861, 0.02881548, 0.11817149, 0.11150517], \"x\": [\"msno\", \"payment_method_id\", \"payment_plan_days\", \"plan_list_price\", \"actual_amount_paid\", \"is_auto_renew\", \"city\", \"bd\", \"gender\", \"registered_via\", \"trans_month\", \"trans_year\", \"expire_month\", \"expire_year\", \"registration_month\", \"registration_year\", \"membership_duration\", \"autorenew_._not_cancel\", \"registration_duration\", \"reg_mem_duration\"], \"mode\": \"markers\", \"marker\": {\"sizemode\": \"diameter\", \"sizeref\": 1, \"size\": 25, \"color\": [0.24221627, 0.04276541, 0.00560166, 0.0119653, 0.01299966, 0.00703854, 0.05643939, 0.10266292, 0.01659545, 0.01485705, 0.03719272, 0.01029425, 0.04231092, 0.01177388, 0.04818219, 0.02169362, 0.05691861, 0.02881548, 0.11817149, 0.11150517], \"colorscale\": \"Portland\", \"showscale\": true}, \"text\": [\"msno\", \"payment_method_id\", \"payment_plan_days\", \"plan_list_price\", \"actual_amount_paid\", \"is_auto_renew\", \"city\", \"bd\", \"gender\", \"registered_via\", \"trans_month\", \"trans_year\", \"expire_month\", \"expire_year\", \"registration_month\", \"registration_year\", \"membership_duration\", \"autorenew_._not_cancel\", \"registration_duration\", \"reg_mem_duration\"]}], {\"autosize\": true, \"title\": \"Gradient Boosting Feature Importance\", \"hovermode\": \"closest\", \"yaxis\": {\"title\": \"Feature Importance\", \"ticklen\": 5, \"gridwidth\": 2}, \"showlegend\": false}, {\"showLink\": true, \"linkText\": \"Export to plot.ly\"})});</script>",
            "text/vnd.plotly.v1+html": "<div id=\"477633d1-e3b7-4051-8d67-2c9572be2759\" style=\"height: 525px; width: 100%;\" class=\"plotly-graph-div\"></div><script type=\"text/javascript\">require([\"plotly\"], function(Plotly) { window.PLOTLYENV=window.PLOTLYENV || {};window.PLOTLYENV.BASE_URL=\"https://plot.ly\";Plotly.newPlot(\"477633d1-e3b7-4051-8d67-2c9572be2759\", [{\"type\": \"scatter\", \"y\": [0.24221627, 0.04276541, 0.00560166, 0.0119653, 0.01299966, 0.00703854, 0.05643939, 0.10266292, 0.01659545, 0.01485705, 0.03719272, 0.01029425, 0.04231092, 0.01177388, 0.04818219, 0.02169362, 0.05691861, 0.02881548, 0.11817149, 0.11150517], \"x\": [\"msno\", \"payment_method_id\", \"payment_plan_days\", \"plan_list_price\", \"actual_amount_paid\", \"is_auto_renew\", \"city\", \"bd\", \"gender\", \"registered_via\", \"trans_month\", \"trans_year\", \"expire_month\", \"expire_year\", \"registration_month\", \"registration_year\", \"membership_duration\", \"autorenew_._not_cancel\", \"registration_duration\", \"reg_mem_duration\"], \"mode\": \"markers\", \"marker\": {\"sizemode\": \"diameter\", \"sizeref\": 1, \"size\": 25, \"color\": [0.24221627, 0.04276541, 0.00560166, 0.0119653, 0.01299966, 0.00703854, 0.05643939, 0.10266292, 0.01659545, 0.01485705, 0.03719272, 0.01029425, 0.04231092, 0.01177388, 0.04818219, 0.02169362, 0.05691861, 0.02881548, 0.11817149, 0.11150517], \"colorscale\": \"Portland\", \"showscale\": true}, \"text\": [\"msno\", \"payment_method_id\", \"payment_plan_days\", \"plan_list_price\", \"actual_amount_paid\", \"is_auto_renew\", \"city\", \"bd\", \"gender\", \"registered_via\", \"trans_month\", \"trans_year\", \"expire_month\", \"expire_year\", \"registration_month\", \"registration_year\", \"membership_duration\", \"autorenew_._not_cancel\", \"registration_duration\", \"reg_mem_duration\"]}], {\"autosize\": true, \"title\": \"Gradient Boosting Feature Importance\", \"hovermode\": \"closest\", \"yaxis\": {\"title\": \"Feature Importance\", \"ticklen\": 5, \"gridwidth\": 2}, \"showlegend\": false}, {\"showLink\": true, \"linkText\": \"Export to plot.ly\"})});</script>"
          },
          "metadata": {},
          "output_type": "display_data"
        }
      ]
    },
    {
      "metadata": {
        "_cell_guid": "deaf9ed4-95f8-47c1-8e5e-a78581936315",
        "_uuid": "c7722037e8219bfe7d79eae419ede0a97067b5e9",
        "trusted": true
      },
      "cell_type": "code",
      "source": "# Create the new column containing the average of values\n\nfeature_dataframe['mean'] = feature_dataframe.mean(axis= 1) # axis = 1 computes the mean row-wise\nfeature_dataframe.head(3)",
      "execution_count": 63,
      "outputs": [
        {
          "data": {
            "text/html": "<div>\n<style scoped>\n    .dataframe tbody tr th:only-of-type {\n        vertical-align: middle;\n    }\n\n    .dataframe tbody tr th {\n        vertical-align: top;\n    }\n\n    .dataframe thead th {\n        text-align: right;\n    }\n</style>\n<table border=\"1\" class=\"dataframe\">\n  <thead>\n    <tr style=\"text-align: right;\">\n      <th></th>\n      <th>AdaBoost feature importances</th>\n      <th>Extra Trees  feature importances</th>\n      <th>Gradient Boost feature importances</th>\n      <th>Random Forest feature importances</th>\n      <th>features</th>\n      <th>mean</th>\n    </tr>\n  </thead>\n  <tbody>\n    <tr>\n      <th>0</th>\n      <td>0.236</td>\n      <td>0.000229</td>\n      <td>0.242216</td>\n      <td>0.017569</td>\n      <td>msno</td>\n      <td>0.124003</td>\n    </tr>\n    <tr>\n      <th>1</th>\n      <td>0.122</td>\n      <td>0.018083</td>\n      <td>0.042765</td>\n      <td>0.062727</td>\n      <td>payment_method_id</td>\n      <td>0.061394</td>\n    </tr>\n    <tr>\n      <th>2</th>\n      <td>0.002</td>\n      <td>0.036132</td>\n      <td>0.005602</td>\n      <td>0.008880</td>\n      <td>payment_plan_days</td>\n      <td>0.013154</td>\n    </tr>\n  </tbody>\n</table>\n</div>",
            "text/plain": "   AdaBoost feature importances  Extra Trees  feature importances  \\\n0                         0.236                          0.000229   \n1                         0.122                          0.018083   \n2                         0.002                          0.036132   \n\n   Gradient Boost feature importances  Random Forest feature importances  \\\n0                            0.242216                           0.017569   \n1                            0.042765                           0.062727   \n2                            0.005602                           0.008880   \n\n            features      mean  \n0               msno  0.124003  \n1  payment_method_id  0.061394  \n2  payment_plan_days  0.013154  "
          },
          "execution_count": 63,
          "metadata": {},
          "output_type": "execute_result"
        }
      ]
    },
    {
      "metadata": {
        "trusted": true,
        "_uuid": "e7f3eed9ba9a1d2828680916a73bbce50e64e09a"
      },
      "cell_type": "code",
      "source": "feature_dataframe.shape",
      "execution_count": 64,
      "outputs": [
        {
          "data": {
            "text/plain": "(20, 6)"
          },
          "execution_count": 64,
          "metadata": {},
          "output_type": "execute_result"
        }
      ]
    },
    {
      "metadata": {
        "_cell_guid": "7bb9866d-b13d-4991-9051-2c49c916497c",
        "_uuid": "bb97f77ab88d12b6bc04d7d35ac6420ccaf30442",
        "trusted": true
      },
      "cell_type": "code",
      "source": "y = feature_dataframe['mean'].values\nx = feature_dataframe['features'].values\ndata = [go.Bar(\n            x= x,\n             y= y,\n            width = 0.5,\n            marker=dict(\n               color = feature_dataframe['mean'].values,\n            colorscale='Portland',\n            showscale=True,\n            reversescale = False\n            ),\n            opacity=0.6\n        )]\n\nlayout= go.Layout(\n    autosize= True,\n    title= 'Barplots of Mean Feature Importance',\n    hovermode= 'closest',\n#     xaxis= dict(\n#         title= 'Pop',\n#         ticklen= 5,\n#         zeroline= False,\n#         gridwidth= 2,\n#     ),\n    yaxis=dict(\n        title= 'Feature Importance',\n        ticklen= 5,\n        gridwidth= 2\n    ),\n    showlegend= False\n)\nfig = go.Figure(data=data, layout=layout)\npy.iplot(fig, filename='bar-direct-labels')",
      "execution_count": 65,
      "outputs": [
        {
          "data": {
            "application/vnd.plotly.v1+json": {
              "data": [
                {
                  "marker": {
                    "color": [
                      0.124003472681,
                      0.061393970475000004,
                      0.013153630425,
                      0.021238816775,
                      0.0223602688,
                      0.1301584975,
                      0.0181841216875,
                      0.058307224399999996,
                      0.005217472483,
                      0.016430054925,
                      0.014594688282499999,
                      0.005177278685,
                      0.0250238171825,
                      0.0063612494025,
                      0.015435483702499999,
                      0.03454479865,
                      0.07384526047500001,
                      0.17413227274999998,
                      0.0922087018,
                      0.08822891625000001
                    ],
                    "colorscale": "Portland",
                    "reversescale": false,
                    "showscale": true
                  },
                  "opacity": 0.6,
                  "type": "bar",
                  "width": 0.5,
                  "x": [
                    "msno",
                    "payment_method_id",
                    "payment_plan_days",
                    "plan_list_price",
                    "actual_amount_paid",
                    "is_auto_renew",
                    "city",
                    "bd",
                    "gender",
                    "registered_via",
                    "trans_month",
                    "trans_year",
                    "expire_month",
                    "expire_year",
                    "registration_month",
                    "registration_year",
                    "membership_duration",
                    "autorenew_._not_cancel",
                    "registration_duration",
                    "reg_mem_duration"
                  ],
                  "y": [
                    0.124003472681,
                    0.061393970475000004,
                    0.013153630425,
                    0.021238816775,
                    0.0223602688,
                    0.1301584975,
                    0.0181841216875,
                    0.058307224399999996,
                    0.005217472483,
                    0.016430054925,
                    0.014594688282499999,
                    0.005177278685,
                    0.0250238171825,
                    0.0063612494025,
                    0.015435483702499999,
                    0.03454479865,
                    0.07384526047500001,
                    0.17413227274999998,
                    0.0922087018,
                    0.08822891625000001
                  ]
                }
              ],
              "layout": {
                "autosize": true,
                "hovermode": "closest",
                "showlegend": false,
                "title": "Barplots of Mean Feature Importance",
                "yaxis": {
                  "gridwidth": 2,
                  "ticklen": 5,
                  "title": "Feature Importance"
                }
              }
            },
            "text/html": "<div id=\"7d8ee359-1c50-4ae3-91cc-15ad1fc048b7\" style=\"height: 525px; width: 100%;\" class=\"plotly-graph-div\"></div><script type=\"text/javascript\">require([\"plotly\"], function(Plotly) { window.PLOTLYENV=window.PLOTLYENV || {};window.PLOTLYENV.BASE_URL=\"https://plot.ly\";Plotly.newPlot(\"7d8ee359-1c50-4ae3-91cc-15ad1fc048b7\", [{\"type\": \"bar\", \"x\": [\"msno\", \"payment_method_id\", \"payment_plan_days\", \"plan_list_price\", \"actual_amount_paid\", \"is_auto_renew\", \"city\", \"bd\", \"gender\", \"registered_via\", \"trans_month\", \"trans_year\", \"expire_month\", \"expire_year\", \"registration_month\", \"registration_year\", \"membership_duration\", \"autorenew_._not_cancel\", \"registration_duration\", \"reg_mem_duration\"], \"y\": [0.124003472681, 0.061393970475000004, 0.013153630425, 0.021238816775, 0.0223602688, 0.1301584975, 0.0181841216875, 0.058307224399999996, 0.005217472483, 0.016430054925, 0.014594688282499999, 0.005177278685, 0.0250238171825, 0.0063612494025, 0.015435483702499999, 0.03454479865, 0.07384526047500001, 0.17413227274999998, 0.0922087018, 0.08822891625000001], \"width\": 0.5, \"marker\": {\"color\": [0.124003472681, 0.061393970475000004, 0.013153630425, 0.021238816775, 0.0223602688, 0.1301584975, 0.0181841216875, 0.058307224399999996, 0.005217472483, 0.016430054925, 0.014594688282499999, 0.005177278685, 0.0250238171825, 0.0063612494025, 0.015435483702499999, 0.03454479865, 0.07384526047500001, 0.17413227274999998, 0.0922087018, 0.08822891625000001], \"colorscale\": \"Portland\", \"showscale\": true, \"reversescale\": false}, \"opacity\": 0.6}], {\"autosize\": true, \"title\": \"Barplots of Mean Feature Importance\", \"hovermode\": \"closest\", \"yaxis\": {\"title\": \"Feature Importance\", \"ticklen\": 5, \"gridwidth\": 2}, \"showlegend\": false}, {\"showLink\": true, \"linkText\": \"Export to plot.ly\"})});</script>",
            "text/vnd.plotly.v1+html": "<div id=\"7d8ee359-1c50-4ae3-91cc-15ad1fc048b7\" style=\"height: 525px; width: 100%;\" class=\"plotly-graph-div\"></div><script type=\"text/javascript\">require([\"plotly\"], function(Plotly) { window.PLOTLYENV=window.PLOTLYENV || {};window.PLOTLYENV.BASE_URL=\"https://plot.ly\";Plotly.newPlot(\"7d8ee359-1c50-4ae3-91cc-15ad1fc048b7\", [{\"type\": \"bar\", \"x\": [\"msno\", \"payment_method_id\", \"payment_plan_days\", \"plan_list_price\", \"actual_amount_paid\", \"is_auto_renew\", \"city\", \"bd\", \"gender\", \"registered_via\", \"trans_month\", \"trans_year\", \"expire_month\", \"expire_year\", \"registration_month\", \"registration_year\", \"membership_duration\", \"autorenew_._not_cancel\", \"registration_duration\", \"reg_mem_duration\"], \"y\": [0.124003472681, 0.061393970475000004, 0.013153630425, 0.021238816775, 0.0223602688, 0.1301584975, 0.0181841216875, 0.058307224399999996, 0.005217472483, 0.016430054925, 0.014594688282499999, 0.005177278685, 0.0250238171825, 0.0063612494025, 0.015435483702499999, 0.03454479865, 0.07384526047500001, 0.17413227274999998, 0.0922087018, 0.08822891625000001], \"width\": 0.5, \"marker\": {\"color\": [0.124003472681, 0.061393970475000004, 0.013153630425, 0.021238816775, 0.0223602688, 0.1301584975, 0.0181841216875, 0.058307224399999996, 0.005217472483, 0.016430054925, 0.014594688282499999, 0.005177278685, 0.0250238171825, 0.0063612494025, 0.015435483702499999, 0.03454479865, 0.07384526047500001, 0.17413227274999998, 0.0922087018, 0.08822891625000001], \"colorscale\": \"Portland\", \"showscale\": true, \"reversescale\": false}, \"opacity\": 0.6}], {\"autosize\": true, \"title\": \"Barplots of Mean Feature Importance\", \"hovermode\": \"closest\", \"yaxis\": {\"title\": \"Feature Importance\", \"ticklen\": 5, \"gridwidth\": 2}, \"showlegend\": false}, {\"showLink\": true, \"linkText\": \"Export to plot.ly\"})});</script>"
          },
          "metadata": {},
          "output_type": "display_data"
        }
      ]
    },
    {
      "metadata": {
        "_cell_guid": "1d088bd1-26e4-4a02-8e17-f1af292b0d9e",
        "_uuid": "48e99c6fac32bd32f2e5a6d6b0986edb17d6f931",
        "trusted": true
      },
      "cell_type": "code",
      "source": "base_predictions_train = pd.DataFrame( {'RandomForest': rf_oof_train.ravel(),\n     'ExtraTrees': et_oof_train.ravel(),\n     'AdaBoost': ada_oof_train.ravel(),\n      'GradientBoost': gb_oof_train.ravel()\n    })\nbase_predictions_train.head()",
      "execution_count": 66,
      "outputs": [
        {
          "data": {
            "text/html": "<div>\n<style scoped>\n    .dataframe tbody tr th:only-of-type {\n        vertical-align: middle;\n    }\n\n    .dataframe tbody tr th {\n        vertical-align: top;\n    }\n\n    .dataframe thead th {\n        text-align: right;\n    }\n</style>\n<table border=\"1\" class=\"dataframe\">\n  <thead>\n    <tr style=\"text-align: right;\">\n      <th></th>\n      <th>AdaBoost</th>\n      <th>ExtraTrees</th>\n      <th>GradientBoost</th>\n      <th>RandomForest</th>\n    </tr>\n  </thead>\n  <tbody>\n    <tr>\n      <th>0</th>\n      <td>1.0</td>\n      <td>1.0</td>\n      <td>0.0</td>\n      <td>0.0</td>\n    </tr>\n    <tr>\n      <th>1</th>\n      <td>0.0</td>\n      <td>1.0</td>\n      <td>0.0</td>\n      <td>0.0</td>\n    </tr>\n    <tr>\n      <th>2</th>\n      <td>0.0</td>\n      <td>0.0</td>\n      <td>0.0</td>\n      <td>0.0</td>\n    </tr>\n    <tr>\n      <th>3</th>\n      <td>0.0</td>\n      <td>0.0</td>\n      <td>0.0</td>\n      <td>0.0</td>\n    </tr>\n    <tr>\n      <th>4</th>\n      <td>0.0</td>\n      <td>1.0</td>\n      <td>0.0</td>\n      <td>0.0</td>\n    </tr>\n  </tbody>\n</table>\n</div>",
            "text/plain": "   AdaBoost  ExtraTrees  GradientBoost  RandomForest\n0       1.0         1.0            0.0           0.0\n1       0.0         1.0            0.0           0.0\n2       0.0         0.0            0.0           0.0\n3       0.0         0.0            0.0           0.0\n4       0.0         1.0            0.0           0.0"
          },
          "execution_count": 66,
          "metadata": {},
          "output_type": "execute_result"
        }
      ]
    },
    {
      "metadata": {
        "trusted": true,
        "_uuid": "84b4e0b8d87e6e925b75f61f9aad11a60b8e6151"
      },
      "cell_type": "code",
      "source": "base_predictions_train.shape",
      "execution_count": 67,
      "outputs": [
        {
          "data": {
            "text/plain": "(7501, 4)"
          },
          "execution_count": 67,
          "metadata": {},
          "output_type": "execute_result"
        }
      ]
    },
    {
      "metadata": {
        "_cell_guid": "aa0add96-ab6e-4ee6-a878-f0ed46186106",
        "_uuid": "4a237198cb935d1693962488a3b513d483c3b2d9",
        "collapsed": true,
        "trusted": true
      },
      "cell_type": "code",
      "source": "base_predictions_train.shape",
      "execution_count": null,
      "outputs": []
    },
    {
      "metadata": {
        "_cell_guid": "1449e187-ed1a-408f-8367-a247200df602",
        "_uuid": "1a5ed8f814b00e7887341f08e4bf8bf3c698fba9",
        "trusted": true
      },
      "cell_type": "code",
      "source": "train.shape",
      "execution_count": 68,
      "outputs": [
        {
          "data": {
            "text/plain": "(7501, 21)"
          },
          "execution_count": 68,
          "metadata": {},
          "output_type": "execute_result"
        }
      ]
    },
    {
      "metadata": {
        "_cell_guid": "69fcdab7-6cf3-4278-b21a-9ae857145a49",
        "_uuid": "e13cefde768c6b0f9e21607010a219927e6494de",
        "trusted": true
      },
      "cell_type": "code",
      "source": "data = [\n    go.Heatmap(\n        z= base_predictions_train.astype(float).corr().values ,\n        x=base_predictions_train.columns.values,\n        y= base_predictions_train.columns.values,\n          colorscale='Viridis',\n            showscale=True,\n            reversescale = True\n    )\n]\npy.iplot(data, filename='labelled-heatmap')",
      "execution_count": 69,
      "outputs": [
        {
          "data": {
            "application/vnd.plotly.v1+json": {
              "data": [
                {
                  "colorscale": "Viridis",
                  "reversescale": true,
                  "showscale": true,
                  "type": "heatmap",
                  "x": [
                    "AdaBoost",
                    "ExtraTrees",
                    "GradientBoost",
                    "RandomForest"
                  ],
                  "y": [
                    "AdaBoost",
                    "ExtraTrees",
                    "GradientBoost",
                    "RandomForest"
                  ],
                  "z": [
                    [
                      1,
                      0.6000352852358285,
                      0.6451430571629548,
                      0.716081222142713
                    ],
                    [
                      0.6000352852358285,
                      1,
                      0.4516583919534099,
                      0.4536323548445897
                    ],
                    [
                      0.6451430571629548,
                      0.4516583919534099,
                      1,
                      0.5967727481666211
                    ],
                    [
                      0.716081222142713,
                      0.4536323548445897,
                      0.5967727481666211,
                      1
                    ]
                  ]
                }
              ],
              "layout": {}
            },
            "text/html": "<div id=\"db6febe4-4979-4486-9930-440c5824bb57\" style=\"height: 525px; width: 100%;\" class=\"plotly-graph-div\"></div><script type=\"text/javascript\">require([\"plotly\"], function(Plotly) { window.PLOTLYENV=window.PLOTLYENV || {};window.PLOTLYENV.BASE_URL=\"https://plot.ly\";Plotly.newPlot(\"db6febe4-4979-4486-9930-440c5824bb57\", [{\"type\": \"heatmap\", \"z\": [[1.0, 0.6000352852358285, 0.6451430571629548, 0.716081222142713], [0.6000352852358285, 1.0, 0.4516583919534099, 0.4536323548445897], [0.6451430571629548, 0.4516583919534099, 1.0, 0.5967727481666211], [0.716081222142713, 0.4536323548445897, 0.5967727481666211, 1.0]], \"x\": [\"AdaBoost\", \"ExtraTrees\", \"GradientBoost\", \"RandomForest\"], \"y\": [\"AdaBoost\", \"ExtraTrees\", \"GradientBoost\", \"RandomForest\"], \"colorscale\": \"Viridis\", \"showscale\": true, \"reversescale\": true}], {}, {\"showLink\": true, \"linkText\": \"Export to plot.ly\"})});</script>",
            "text/vnd.plotly.v1+html": "<div id=\"db6febe4-4979-4486-9930-440c5824bb57\" style=\"height: 525px; width: 100%;\" class=\"plotly-graph-div\"></div><script type=\"text/javascript\">require([\"plotly\"], function(Plotly) { window.PLOTLYENV=window.PLOTLYENV || {};window.PLOTLYENV.BASE_URL=\"https://plot.ly\";Plotly.newPlot(\"db6febe4-4979-4486-9930-440c5824bb57\", [{\"type\": \"heatmap\", \"z\": [[1.0, 0.6000352852358285, 0.6451430571629548, 0.716081222142713], [0.6000352852358285, 1.0, 0.4516583919534099, 0.4536323548445897], [0.6451430571629548, 0.4516583919534099, 1.0, 0.5967727481666211], [0.716081222142713, 0.4536323548445897, 0.5967727481666211, 1.0]], \"x\": [\"AdaBoost\", \"ExtraTrees\", \"GradientBoost\", \"RandomForest\"], \"y\": [\"AdaBoost\", \"ExtraTrees\", \"GradientBoost\", \"RandomForest\"], \"colorscale\": \"Viridis\", \"showscale\": true, \"reversescale\": true}], {}, {\"showLink\": true, \"linkText\": \"Export to plot.ly\"})});</script>"
          },
          "metadata": {},
          "output_type": "display_data"
        }
      ]
    },
    {
      "metadata": {
        "_cell_guid": "41b51b12-ed4a-4d95-9e8a-e0e42df4e9f3",
        "_uuid": "cea0e21542f0162a01cbc3d7709d117466005dbe",
        "collapsed": true,
        "trusted": true
      },
      "cell_type": "code",
      "source": "x_train = np.concatenate(( et_oof_train, rf_oof_train, ada_oof_train, gb_oof_train), axis=1)\nx_test = np.concatenate(( et_oof_test, rf_oof_test, ada_oof_test, gb_oof_test), axis=1)",
      "execution_count": 70,
      "outputs": []
    },
    {
      "metadata": {
        "trusted": true,
        "_uuid": "888457d1ad136e312c32d309d62c1e1201c381f9"
      },
      "cell_type": "code",
      "source": "x_train.shape, x_test.shape",
      "execution_count": 71,
      "outputs": [
        {
          "data": {
            "text/plain": "((7501, 4), (2499, 4))"
          },
          "execution_count": 71,
          "metadata": {},
          "output_type": "execute_result"
        }
      ]
    },
    {
      "metadata": {
        "_cell_guid": "55c4db70-c18c-4a24-bdc0-693bd5aca036",
        "_uuid": "66cd6e4235b4e37af66d758dd445950ebd8abdb0",
        "collapsed": true,
        "trusted": true
      },
      "cell_type": "code",
      "source": "gbm = xgb.XGBClassifier(\n    #learning_rate = 0.02,\n eta = 0.1,\n n_estimators= 2000,\n max_depth= 4,\n min_child_weight= 2,\n #gamma=1,\n gamma=0.9,                        \n subsample=0.8,\n colsample_bytree=0.8,\n objective= 'binary:logistic',\n nthread= -1,\n scale_pos_weight=1).fit(x_train, y_train)\npredictions = gbm.predict(x_test)",
      "execution_count": 72,
      "outputs": []
    },
    {
      "metadata": {
        "_cell_guid": "27abe66d-cd0c-4344-b80c-6b0434325a3c",
        "_uuid": "8f460e33a78f125a873991b6f3651500112965f7",
        "collapsed": true,
        "trusted": true
      },
      "cell_type": "code",
      "source": "test.head()",
      "execution_count": null,
      "outputs": []
    },
    {
      "metadata": {
        "_cell_guid": "f7c1ed1e-9167-4858-b170-845548a57fe1",
        "_uuid": "8abeea7a1b20f431969cb9dd307ed9c1eb154b1f",
        "collapsed": true,
        "trusted": true
      },
      "cell_type": "code",
      "source": "predictions",
      "execution_count": null,
      "outputs": []
    },
    {
      "metadata": {
        "_cell_guid": "ff42ed2a-4c69-4422-b6b7-b51d1a777333",
        "_uuid": "561c76788953eddb459732c9de2e049afccb0ff0",
        "collapsed": true,
        "trusted": true
      },
      "cell_type": "code",
      "source": "from sklearn.metrics import accuracy_score",
      "execution_count": null,
      "outputs": []
    },
    {
      "metadata": {
        "_cell_guid": "2e012e62-4b9f-4742-813e-4c90874f3403",
        "_uuid": "1922584e29ae7fdc9214de520a50d8d866f36ef4",
        "collapsed": true,
        "trusted": true
      },
      "cell_type": "code",
      "source": "y_test = test['is_churn']\ny_test = y_test.values",
      "execution_count": null,
      "outputs": []
    },
    {
      "metadata": {
        "_cell_guid": "d90daaaf-0f47-4c75-aef0-8cd8d9931dba",
        "_uuid": "6765aa2965895d67638fadc90bb5f78f1a20a47b",
        "trusted": true
      },
      "cell_type": "code",
      "source": "accuracy_score(y_test, predictions)",
      "execution_count": 73,
      "outputs": [
        {
          "data": {
            "text/plain": "0.4965986394557823"
          },
          "execution_count": 73,
          "metadata": {},
          "output_type": "execute_result"
        }
      ]
    },
    {
      "metadata": {
        "_cell_guid": "9141d704-6157-422e-a7ce-7e2bacc8db62",
        "_uuid": "5336d61e26db4ad149bc63cd5510a74b26dbb00e",
        "trusted": true
      },
      "cell_type": "code",
      "source": "print(__doc__)\n\nimport itertools\nimport numpy as np\nimport matplotlib.pyplot as plt\n\nfrom sklearn import svm, datasets\nfrom sklearn.model_selection import train_test_split\nfrom sklearn.metrics import confusion_matrix\n\n\n\ndef plot_confusion_matrix(cm, classes,\n                          normalize=False,\n                          title='Confusion matrix',\n                          cmap=plt.cm.Blues):\n    if normalize:\n        cm = cm.astype('float') / cm.sum(axis=1)[:, np.newaxis]\n        print(\"Normalized confusion matrix\")\n    else:\n        print('Confusion matrix, without normalization')\n\n    print(cm)\n\n    plt.imshow(cm, interpolation='nearest', cmap=cmap)\n    plt.title(title)\n    plt.colorbar()\n    tick_marks = np.arange(len(classes))\n    plt.xticks(tick_marks, classes, rotation=45)\n    plt.yticks(tick_marks, classes)\n\n    fmt = '.2f' if normalize else 'd'\n    thresh = cm.max() / 2.\n    for i, j in itertools.product(range(cm.shape[0]), range(cm.shape[1])):\n        plt.text(j, i, format(cm[i, j], fmt),\n                 horizontalalignment=\"center\",\n                 color=\"white\" if cm[i, j] > thresh else \"black\")\n\n    plt.tight_layout()\n    plt.ylabel('True label')\n    plt.xlabel('Predicted label')\n\n# Compute confusion matrix\ncnf_matrix = confusion_matrix(y_test, predictions)\nnp.set_printoptions(precision=2)\n\n# Plot non-normalized confusion matrix\nplt.figure()\nplot_confusion_matrix(cnf_matrix, classes=clas,\n                      title='Confusion matrix, without normalization')\n\n# Plot normalized confusion matrix\nplt.figure()\nplot_confusion_matrix(cnf_matrix, classes=clas, normalize=True,\n                      title='Normalized confusion matrix')\n\nplt.show()",
      "execution_count": 74,
      "outputs": [
        {
          "name": "stdout",
          "output_type": "stream",
          "text": "Automatically created module for IPython interactive environment\nConfusion matrix, without normalization\n[[  58 1203]\n [  55 1183]]\nNormalized confusion matrix\n[[0.05 0.95]\n [0.04 0.96]]\n"
        },
        {
          "data": {
            "image/png": "[encoded data removed]",
            "text/plain": "<matplotlib.figure.Figure at 0x7f4e4ca42240>"
          },
          "metadata": {},
          "output_type": "display_data"
        },
        {
          "data": {
            "image/png": "[encoded data removed]",
            "text/plain": "<matplotlib.figure.Figure at 0x7f4e4ca32f98>"
          },
          "metadata": {},
          "output_type": "display_data"
        }
      ]
    },
    {
      "metadata": {
        "_cell_guid": "c75008a9-3cc1-4c94-851d-484a2b5de703",
        "_uuid": "006d4a085565c9750f4cf5ae29553e2ccef5b7dd",
        "collapsed": true,
        "trusted": true
      },
      "cell_type": "code",
      "source": "y",
      "execution_count": null,
      "outputs": []
    },
    {
      "metadata": {
        "_cell_guid": "ea6e2bfc-5895-4191-8ff4-093cf41b0a52",
        "_uuid": "3373fd48bd75be1e14e00ae48f7ef43186ee81a0",
        "collapsed": true,
        "trusted": true
      },
      "cell_type": "code",
      "source": "clas = np.array(['churn','not_churn'])\nclas",
      "execution_count": null,
      "outputs": []
    },
    {
      "metadata": {
        "_cell_guid": "2ded68e3-06db-497d-bb96-3b82101289d3",
        "_uuid": "5dfc8059f9773b29227c6f081200f9027537a3a1",
        "collapsed": true,
        "trusted": true
      },
      "cell_type": "code",
      "source": "X = train.drop('is_churn', axis = 1)\nY = train['is_churn']",
      "execution_count": 80,
      "outputs": []
    },
    {
      "metadata": {
        "_cell_guid": "ccb7be65-68ea-4f3e-932f-11b05665e355",
        "_uuid": "5b812d625bd5572a29702c3820ffe47159c0e2da",
        "collapsed": true,
        "trusted": true
      },
      "cell_type": "code",
      "source": "def objective(params):\n    params = {\n        'max_depth': int(params['max_depth']),\n        'gamma': \"{:.3f}\".format(params['gamma']),\n        'colsample_bytree': '{:.3f}'.format(params['colsample_bytree']),\n        'eta': '{:.3f}'.format(params['eta'])\n       # 'n_estimators': '{:.3f}'.format(params['n_estimators']),\n    }\n    \n    clf = xgb.XGBClassifier(\n        n_estimators=250,\n        learning_rate=0.05,\n        n_jobs=4,\n        **params\n    )\n    \n    score = cross_val_score(clf, X, Y, cv=StratifiedKFold()).mean()\n    print(\"score {:.3f} params {}\".format(score, params))\n    return score",
      "execution_count": 84,
      "outputs": []
    },
    {
      "metadata": {
        "_cell_guid": "32382226-8f56-45e4-b454-380d6ba7acf4",
        "_uuid": "71563b0bb7a44da175dc6b8a44cbda733d23cb7e",
        "trusted": true
      },
      "cell_type": "code",
      "source": "print(\"Hyperopt estimated optimum {}\".format(best))",
      "execution_count": 76,
      "outputs": [
        {
          "ename": "NameError",
          "evalue": "name 'best' is not defined",
          "output_type": "error",
          "traceback": [
            "\u001b[0;31m---------------------------------------------------------------------------\u001b[0m",
            "\u001b[0;31mNameError\u001b[0m                                 Traceback (most recent call last)",
            "\u001b[0;32m<ipython-input-76-99d588a2b2f6>\u001b[0m in \u001b[0;36m<module>\u001b[0;34m()\u001b[0m\n\u001b[0;32m----> 1\u001b[0;31m \u001b[0mprint\u001b[0m\u001b[0;34m(\u001b[0m\u001b[0;34m\"Hyperopt estimated optimum {}\"\u001b[0m\u001b[0;34m.\u001b[0m\u001b[0mformat\u001b[0m\u001b[0;34m(\u001b[0m\u001b[0mbest\u001b[0m\u001b[0;34m)\u001b[0m\u001b[0;34m)\u001b[0m\u001b[0;34m\u001b[0m\u001b[0m\n\u001b[0m",
            "\u001b[0;31mNameError\u001b[0m: name 'best' is not defined"
          ]
        }
      ]
    },
    {
      "metadata": {
        "_cell_guid": "72f3290e-4b8b-4d9b-ae09-4d35ba1f62a9",
        "_uuid": "4bf63b698f557a195a261511e73fb37cacc7a427",
        "trusted": true
      },
      "cell_type": "code",
      "source": "space = {\n    'max_depth': hp.quniform('max_depth', 2, 8, 1),\n    'colsample_bytree': hp.uniform('colsample_bytree', 0.3, 1.0),\n    'gamma': hp.uniform('gamma', 0.0, 0.2),\n    'eta': hp.uniform('eta', 0.01, 0.3)\n    #'n_estimators': hp.uniform('n_estimators', 500, 2000)\n}\n\nbest = fmin(fn=objective,\n            space=space,\n            algo=tpe.suggest,\n            max_evals=10)",
      "execution_count": 85,
      "outputs": [
        {
          "name": "stdout",
          "output_type": "stream",
          "text": "score 0.706 params {'max_depth': 2, 'gamma': '0.087', 'colsample_bytree': '0.905', 'eta': '0.011'}\nscore 0.705 params {'max_depth': 5, 'gamma': '0.136', 'colsample_bytree': '0.667', 'eta': '0.179'}\nscore 0.698 params {'max_depth': 8, 'gamma': '0.026', 'colsample_bytree': '0.902', 'eta': '0.066'}\nscore 0.699 params {'max_depth': 7, 'gamma': '0.037', 'colsample_bytree': '0.909', 'eta': '0.062'}\nscore 0.696 params {'max_depth': 7, 'gamma': '0.072', 'colsample_bytree': '0.875', 'eta': '0.042'}\nscore 0.696 params {'max_depth': 8, 'gamma': '0.111', 'colsample_bytree': '0.673', 'eta': '0.075'}\nscore 0.706 params {'max_depth': 6, 'gamma': '0.071', 'colsample_bytree': '0.593', 'eta': '0.205'}\nscore 0.696 params {'max_depth': 8, 'gamma': '0.158', 'colsample_bytree': '0.480', 'eta': '0.128'}\nscore 0.698 params {'max_depth': 6, 'gamma': '0.023', 'colsample_bytree': '0.835', 'eta': '0.239'}\nscore 0.707 params {'max_depth': 4, 'gamma': '0.035', 'colsample_bytree': '0.750', 'eta': '0.134'}\n"
        }
      ]
    },
    {
      "metadata": {
        "_cell_guid": "2a040fee-7e03-4d4f-92fb-d43d82e1bffc",
        "_uuid": "0642c6fc6c1c34ebebdd2e1985ddfd846c034955",
        "trusted": true
      },
      "cell_type": "code",
      "source": "print(\"Hyperopt estimated optimum {}\".format(best))",
      "execution_count": 86,
      "outputs": [
        {
          "name": "stdout",
          "output_type": "stream",
          "text": "Hyperopt estimated optimum {'colsample_bytree': 0.8753686771550262, 'eta': 0.0421341221237833, 'gamma': 0.07162877280714029, 'max_depth': 7.0}\n"
        }
      ]
    },
    {
      "metadata": {
        "_cell_guid": "e068760f-e332-457e-936a-167b9b1b63cd",
        "_uuid": "774199c0e4aad4dc4bbf3455861ef62113fefdad",
        "collapsed": true,
        "trusted": true
      },
      "cell_type": "code",
      "source": "def objective(params):\n    params = {\n        'max_depth': int(params['max_depth']),\n        'min_samples_leaf': int(params['min_samples_leaf'])\n    }\n    \n    clf = ExtraTreesClassifier(\n        n_estimators=500,\n        n_jobs = -1,\n        verbose = 0,\n        **params\n    )\n    \n    score = cross_val_score(clf, X, Y, cv=StratifiedKFold()).mean()\n    print(\"score {:.3f} params {}\".format(score, params))\n    return score",
      "execution_count": 81,
      "outputs": []
    },
    {
      "metadata": {
        "_cell_guid": "9f8fd0f7-3c1c-415a-8fbb-56ef0399e2f7",
        "_uuid": "0031cfef8ea8d0baa00ae128143f23f0c100312e",
        "trusted": true
      },
      "cell_type": "code",
      "source": "space = {\n    'max_depth': hp.quniform('max_depth', 2, 10, 1),\n    'min_samples_leaf': hp.quniform('min_samples_leaf', 1, 10, 1)\n}\n\nbest = fmin(fn=objective,\n            space=space,\n            algo=tpe.suggest,\n            max_evals=10)",
      "execution_count": 82,
      "outputs": [
        {
          "name": "stdout",
          "output_type": "stream",
          "text": "score 0.702 params {'max_depth': 5, 'min_samples_leaf': 4}\nscore 0.703 params {'max_depth': 5, 'min_samples_leaf': 9}\nscore 0.706 params {'max_depth': 8, 'min_samples_leaf': 9}\nscore 0.701 params {'max_depth': 5, 'min_samples_leaf': 10}\nscore 0.707 params {'max_depth': 8, 'min_samples_leaf': 7}\nscore 0.707 params {'max_depth': 8, 'min_samples_leaf': 2}\nscore 0.707 params {'max_depth': 8, 'min_samples_leaf': 3}\nscore 0.699 params {'max_depth': 4, 'min_samples_leaf': 2}\nscore 0.699 params {'max_depth': 4, 'min_samples_leaf': 2}\nscore 0.706 params {'max_depth': 10, 'min_samples_leaf': 9}\n"
        }
      ]
    },
    {
      "metadata": {
        "_cell_guid": "18d6d43d-ddfa-4516-a974-724c1db9f1d7",
        "_uuid": "4dc6c05fafe92968af943712e28f79ca1e40a90d",
        "trusted": true
      },
      "cell_type": "code",
      "source": "print(\"Hyperopt estimated optimum {}\".format(best))",
      "execution_count": 83,
      "outputs": [
        {
          "name": "stdout",
          "output_type": "stream",
          "text": "Hyperopt estimated optimum {'max_depth': 4.0, 'min_samples_leaf': 2.0}\n"
        }
      ]
    },
    {
      "metadata": {
        "_cell_guid": "b1968c4e-f63d-49f7-8306-016bdfdaf815",
        "_uuid": "692aec15474db41f18e96fba4ea3c872ab9e5114",
        "collapsed": true,
        "trusted": true
      },
      "cell_type": "code",
      "source": "",
      "execution_count": null,
      "outputs": []
    }
  ],
  "metadata": {
    "kernelspec": {
      "display_name": "Python 3",
      "language": "python",
      "name": "python3"
    },
    "language_info": {
      "codemirror_mode": {
        "name": "ipython",
        "version": 3
      },
      "file_extension": ".py",
      "mimetype": "text/x-python",
      "name": "python",
      "nbconvert_exporter": "python",
      "pygments_lexer": "ipython3",
      "version": "3.6.4"
    }
  },
  "nbformat": 4,
  "nbformat_minor": 1
}